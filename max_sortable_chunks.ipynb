{
 "cells": [
  {
   "cell_type": "markdown",
   "metadata": {},
   "source": [
    "# Max sortable chunks\n",
    "Determine the maximum number of chunks an array can be broken into and then individually sorted that will result in a sort of the original array when concatenated. "
   ]
  },
  {
   "cell_type": "code",
   "execution_count": 89,
   "metadata": {},
   "outputs": [],
   "source": [
    "import unittest\n",
    "import numpy as np\n",
    "from matplotlib import pyplot as plt\n",
    "\n",
    "%matplotlib inline"
   ]
  },
  {
   "cell_type": "markdown",
   "metadata": {},
   "source": [
    "## First Strategy\n",
    "The maximum possible number of chunks i n, where n is the length of the array. If the array is already sorted this will be the answer. Otherwise for any given chunk in the array it should be merged to the right if its min is less than the max of everything to the right, and merged to the left if its min is less than the max of the left. We start with n chunks and work from right to left successively merging when needed\n",
    "\n",
    "### Why it is wrong or slow\n",
    "After each successful merge the new merged partition needs to be compared to each piece to the right of it to make sure we didnt miss an earlier merge, hence why it fails the 3rd test case, `[4,0,0,2,4]`"
   ]
  },
  {
   "cell_type": "code",
   "execution_count": 90,
   "metadata": {},
   "outputs": [],
   "source": [
    "class Solution:\n",
    "    def print_partitions(self, arr, partitions):\n",
    "        print([arr[p[0]:p[1]] for p in partitions])\n",
    "    \n",
    "    def maxChunksToSorted(self, arr) -> int:\n",
    "        # start with as many chunks as there are elements each of length 1\n",
    "        partitions = [(i, i+1) for i in range(len(arr))]\n",
    "        cursor = len(arr) - 2\n",
    "        print(partitions)\n",
    "        while cursor >= 0:\n",
    "            p = partitions[cursor]\n",
    "            pright = partitions[cursor + 1]\n",
    "            pleft = partitions[cursor - 1]\n",
    "            min_current = min(arr[p[0]:p[1]])\n",
    "            max_current = max(arr[p[0]:p[1]])\n",
    "            max_left = max(arr[pleft[0]:pleft[1]])\n",
    "            min_right = min(arr[pright[0]:pright[1]])\n",
    "            print(\"curr, minc, maxc, maxl, minr\")\n",
    "            print(\"{:4d}, {:4d}, {:4d}, {:4d}, {:4d}\".format(cursor, min_current, max_current, max_left, min_right))\n",
    "            self.print_partitions(arr, partitions)\n",
    "            if min_current < max_left and cursor > 0:\n",
    "                # current partition minimum less than left side maximum, merge current into left\n",
    "                new = (pleft[0],p[1])\n",
    "                partitions[cursor] = new\n",
    "                partitions.pop(cursor - 1)\n",
    "                cursor -= 1\n",
    "            \n",
    "            elif max_current > min_right:\n",
    "                # current partition maximum greater than right side minimum\n",
    "                pnew = (p[0], pright[1])\n",
    "                partitions[cursor] = pnew\n",
    "                partitions.pop(cursor + 1)\n",
    "                cursor -= 1\n",
    "                \n",
    "            else: \n",
    "                cursor -= 1\n",
    "                \n",
    "            print(partitions)\n",
    "\n",
    "        self.print_partitions(arr, partitions)\n",
    "        return len(partitions)\n",
    "                "
   ]
  },
  {
   "cell_type": "code",
   "execution_count": 91,
   "metadata": {},
   "outputs": [
    {
     "name": "stdout",
     "output_type": "stream",
     "text": [
      "[5, 4, 3, 2, 1]\n",
      "[(0, 1), (1, 2), (2, 3), (3, 4), (4, 5)]\n",
      "curr, minc, maxc, maxl, minr\n",
      "   3,    2,    2,    3,    1\n",
      "[[5], [4], [3], [2], [1]]\n",
      "[(0, 1), (1, 2), (2, 4), (4, 5)]\n",
      "curr, minc, maxc, maxl, minr\n",
      "   2,    2,    3,    4,    1\n",
      "[[5], [4], [3, 2], [1]]\n",
      "[(0, 1), (1, 4), (4, 5)]\n",
      "curr, minc, maxc, maxl, minr\n",
      "   1,    2,    4,    5,    1\n",
      "[[5], [4, 3, 2], [1]]\n",
      "[(0, 4), (4, 5)]\n",
      "curr, minc, maxc, maxl, minr\n",
      "   0,    2,    5,    1,    1\n",
      "[[5, 4, 3, 2], [1]]\n",
      "[(0, 5)]\n",
      "[[5, 4, 3, 2, 1]]\n"
     ]
    },
    {
     "data": {
      "text/plain": [
       "1"
      ]
     },
     "execution_count": 91,
     "metadata": {},
     "output_type": "execute_result"
    }
   ],
   "source": [
    "# test 1, a reverse sorted list has 1 chunk\n",
    "testlist = [5, 4, 3, 2, 1]\n",
    "print(testlist)\n",
    "s = Solution()\n",
    "s.maxChunksToSorted(testlist)"
   ]
  },
  {
   "cell_type": "code",
   "execution_count": 92,
   "metadata": {},
   "outputs": [
    {
     "name": "stdout",
     "output_type": "stream",
     "text": [
      "[(0, 1), (1, 2), (2, 3), (3, 4), (4, 5)]\n",
      "curr, minc, maxc, maxl, minr\n",
      "   3,    4,    4,    3,    5\n",
      "[[1], [2], [3], [4], [5]]\n",
      "[(0, 1), (1, 2), (2, 3), (3, 4), (4, 5)]\n",
      "curr, minc, maxc, maxl, minr\n",
      "   2,    3,    3,    2,    4\n",
      "[[1], [2], [3], [4], [5]]\n",
      "[(0, 1), (1, 2), (2, 3), (3, 4), (4, 5)]\n",
      "curr, minc, maxc, maxl, minr\n",
      "   1,    2,    2,    1,    3\n",
      "[[1], [2], [3], [4], [5]]\n",
      "[(0, 1), (1, 2), (2, 3), (3, 4), (4, 5)]\n",
      "curr, minc, maxc, maxl, minr\n",
      "   0,    1,    1,    5,    2\n",
      "[[1], [2], [3], [4], [5]]\n",
      "[(0, 1), (1, 2), (2, 3), (3, 4), (4, 5)]\n",
      "[[1], [2], [3], [4], [5]]\n"
     ]
    },
    {
     "data": {
      "text/plain": [
       "5"
      ]
     },
     "execution_count": 92,
     "metadata": {},
     "output_type": "execute_result"
    }
   ],
   "source": [
    "# test 2, a sorted list as n chunks\n",
    "testlist = [1, 2, 3, 4, 5]\n",
    "s = Solution()\n",
    "s.maxChunksToSorted(testlist)"
   ]
  },
  {
   "cell_type": "code",
   "execution_count": 93,
   "metadata": {
    "scrolled": true
   },
   "outputs": [
    {
     "name": "stdout",
     "output_type": "stream",
     "text": [
      "[(0, 1), (1, 2), (2, 3), (3, 4), (4, 5)]\n",
      "curr, minc, maxc, maxl, minr\n",
      "   3,    2,    2,    0,    4\n",
      "[[4], [0], [0], [2], [4]]\n",
      "[(0, 1), (1, 2), (2, 3), (3, 4), (4, 5)]\n",
      "curr, minc, maxc, maxl, minr\n",
      "   2,    0,    0,    0,    2\n",
      "[[4], [0], [0], [2], [4]]\n",
      "[(0, 1), (1, 2), (2, 3), (3, 4), (4, 5)]\n",
      "curr, minc, maxc, maxl, minr\n",
      "   1,    0,    0,    4,    0\n",
      "[[4], [0], [0], [2], [4]]\n",
      "[(0, 2), (2, 3), (3, 4), (4, 5)]\n",
      "curr, minc, maxc, maxl, minr\n",
      "   0,    0,    4,    4,    0\n",
      "[[4, 0], [0], [2], [4]]\n",
      "[(0, 3), (3, 4), (4, 5)]\n",
      "[[4, 0, 0], [2], [4]]\n"
     ]
    },
    {
     "data": {
      "text/plain": [
       "3"
      ]
     },
     "execution_count": 93,
     "metadata": {},
     "output_type": "execute_result"
    }
   ],
   "source": [
    "# test 3, a little more complex, has 2 chunks\n",
    "\n",
    "testlist = [4,0,0,2,4]\n",
    "s = Solution()\n",
    "s.maxChunksToSorted(testlist)"
   ]
  },
  {
   "cell_type": "markdown",
   "metadata": {},
   "source": [
    "## Second Strategy\n",
    "We take a greedy aproach, in an array $A$ of $p$ elements we if $[a_i:a_m]$ is a valid chunk and $[a_i:a_n]$ is a valid chunk, $n > m$ then $[a_m:a_n]$ is a valid chunk. We therefore move from left to right and at each place evaluate if the current chunk ios valid. A selection is a valid chunk if its maximum is less than the minimum of everything to its right."
   ]
  },
  {
   "cell_type": "code",
   "execution_count": 102,
   "metadata": {},
   "outputs": [],
   "source": [
    "class Solution:\n",
    "    def maxChunksToSorted(self, arr) -> int:\n",
    "        chunks = 1\n",
    "        n = len(arr)\n",
    "        for i in range(n):\n",
    "            test_chunk = arr[0:i]\n",
    "            rem = arr[i:n]\n",
    "            print(test_chunk, rem)\n",
    "            if test_chunk and rem and max(test_chunk) <= min(rem):\n",
    "                chunks += 1\n",
    "        return chunks\n"
   ]
  },
  {
   "cell_type": "code",
   "execution_count": 103,
   "metadata": {},
   "outputs": [
    {
     "name": "stdout",
     "output_type": "stream",
     "text": [
      "[] [4, 0, 0, 2, 4]\n",
      "[4] [0, 0, 2, 4]\n",
      "[4, 0] [0, 2, 4]\n",
      "[4, 0, 0] [2, 4]\n",
      "[4, 0, 0, 2] [4]\n"
     ]
    },
    {
     "data": {
      "text/plain": [
       "2"
      ]
     },
     "execution_count": 103,
     "metadata": {},
     "output_type": "execute_result"
    }
   ],
   "source": [
    "testlist = [4,0,0,2,4]\n",
    "s = Solution()\n",
    "s.maxChunksToSorted(testlist)"
   ]
  }
 ],
 "metadata": {
  "anaconda-cloud": {},
  "kernelspec": {
   "display_name": "Python 3",
   "language": "python",
   "name": "python3"
  },
  "language_info": {
   "codemirror_mode": {
    "name": "ipython",
    "version": 3
   },
   "file_extension": ".py",
   "mimetype": "text/x-python",
   "name": "python",
   "nbconvert_exporter": "python",
   "pygments_lexer": "ipython3",
   "version": "3.7.3"
  }
 },
 "nbformat": 4,
 "nbformat_minor": 1
}
