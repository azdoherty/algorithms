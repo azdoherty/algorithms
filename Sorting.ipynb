{
 "cells": [
  {
   "cell_type": "markdown",
   "metadata": {},
   "source": [
    "# Sorting\n",
    "\n",
    "From basic to advanced"
   ]
  },
  {
   "cell_type": "markdown",
   "metadata": {},
   "source": [
    "## Problem 1\n",
    "\n",
    "The basic sort - [problem](https://leetcode.com/problems/sort-an-array/)\n",
    "Sorting algorithms\n",
    "1. Bubble Sort - repeatedly pass through and compare and swap until a pass has no swaps\n",
    "2. Merge Sort\n",
    "3. Quicksort"
   ]
  },
  {
   "cell_type": "code",
   "execution_count": 22,
   "metadata": {},
   "outputs": [],
   "source": [
    "import numpy\n"
   ]
  },
  {
   "cell_type": "code",
   "execution_count": 23,
   "metadata": {},
   "outputs": [],
   "source": [
    "class BubbleSolution:\n",
    "    def sortArray(self, nums):\n",
    "        swapped = True\n",
    "        while swapped:\n",
    "            swapped = False\n",
    "            for i in range(len(nums) - 1):\n",
    "                if nums[i] > nums[i+1]:\n",
    "                    nums[i+1], nums[i] = nums[i], nums[i+1]\n",
    "                    swapped = True\n",
    "        return nums\n",
    "            \n",
    "        \n",
    "        "
   ]
  },
  {
   "cell_type": "code",
   "execution_count": 24,
   "metadata": {},
   "outputs": [
    {
     "data": {
      "text/plain": [
       "[1, 2, 3, 4, 5]"
      ]
     },
     "execution_count": 24,
     "metadata": {},
     "output_type": "execute_result"
    }
   ],
   "source": [
    "x = [5, 4, 3, 2, 1]\n",
    "s = BubbleSolution()\n",
    "s.sortArray(x)"
   ]
  },
  {
   "cell_type": "code",
   "execution_count": 30,
   "metadata": {},
   "outputs": [],
   "source": [
    "class MergeSolution:\n",
    "    def sortArray(self, nums):\n",
    "        if len(nums) <= 1:\n",
    "            return nums\n",
    "        left = nums[0:int(len(nums)/2)]\n",
    "        right = nums[int(len(nums)/2):len(nums)]\n",
    "        \n",
    "        left = self.sortArray(left)\n",
    "        right = self.sortArray(right)\n",
    "        \n",
    "        return self.merge(left, right)\n",
    "    \n",
    "    def merge(self, left, right):\n",
    "        res = []\n",
    "        while len(left) > 0 and len(right) > 0:\n",
    "            if left[0] <= right[0]:\n",
    "                res.append(left.pop(0))\n",
    "            else:\n",
    "                res.append(right.pop(0))\n",
    "                \n",
    "        while len(left) > 0:\n",
    "            res.append(left.pop(0))\n",
    "        while len(right) > 0:\n",
    "            res.append(right.pop(0))\n",
    "       \n",
    "            \n",
    "        return res\n",
    "                    \n",
    "        \n",
    "        "
   ]
  },
  {
   "cell_type": "code",
   "execution_count": 31,
   "metadata": {},
   "outputs": [
    {
     "data": {
      "text/plain": [
       "[1, 2, 3, 4, 5]"
      ]
     },
     "execution_count": 31,
     "metadata": {},
     "output_type": "execute_result"
    }
   ],
   "source": [
    "x = [5, 4, 3, 2, 1]\n",
    "s = MergeSolution()\n",
    "s.sortArray(x)"
   ]
  }
 ],
 "metadata": {
  "kernelspec": {
   "display_name": "Python 3",
   "language": "python",
   "name": "python3"
  },
  "language_info": {
   "codemirror_mode": {
    "name": "ipython",
    "version": 3
   },
   "file_extension": ".py",
   "mimetype": "text/x-python",
   "name": "python",
   "nbconvert_exporter": "python",
   "pygments_lexer": "ipython3",
   "version": "3.6.4"
  }
 },
 "nbformat": 4,
 "nbformat_minor": 2
}
