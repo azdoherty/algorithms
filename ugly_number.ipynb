{
 "cells": [
  {
   "cell_type": "markdown",
   "metadata": {},
   "source": [
    "### The nth ugly number\n",
    "Ugly numbers have prime factors of only 2, 3, and 5. We can do this by finding the prime factorization of each number and counting how many have 2, 3, 5 as their only prime factors. We can save on this by storing results for each of the prime factorizations.\n",
    "\n",
    "To determine a numbers prime factorization we repeeatedly divide it with the smallest prime number that it is divisible by until it becomes 1. This means we also need to know which numbers are prime numbers. Prime numbers are those whose prime factorizations are 1 and themselves. "
   ]
  },
  {
   "cell_type": "code",
   "execution_count": 80,
   "metadata": {},
   "outputs": [],
   "source": [
    "import unittest\n",
    "from matplotlib import pyplot as plt\n",
    "\n",
    "%matplotlib inline"
   ]
  },
  {
   "cell_type": "code",
   "execution_count": 115,
   "metadata": {},
   "outputs": [],
   "source": [
    "class Solution:\n",
    "    def nthUglyNumber(self, n: int) -> int:\n",
    "        count = 2\n",
    "        number = 2\n",
    "        numbers = [1]\n",
    "        while count <= n:\n",
    "            if self.is_ugly_number(number):\n",
    "                count += 1\n",
    "                numbers.append(number)\n",
    "                number += 1\n",
    "                \n",
    "            else:\n",
    "                number += 1\n",
    "        print(numbers)\n",
    "        return numbers[-1]\n",
    "    \n",
    "    def is_ugly_number(self, number):\n",
    "        # check if a number is ugly\n",
    "        factorset = self.prime_factorize(number)\n",
    "        if self.isugly(factorset):\n",
    "            return True\n",
    "        else:\n",
    "            return False\n",
    "        \n",
    "    \n",
    "    def isugly(self, factorset):\n",
    "        # check if a set of numbers is ugly\n",
    "        uglyset = set([2, 3, 5])\n",
    "        if factorset.issubset(uglyset):\n",
    "            return True\n",
    "        else:\n",
    "            return False\n",
    "    \n",
    "    def prime_factorize(self, n, factor=None, factors=None):\n",
    "        if factor:\n",
    "            factors.append(factor)\n",
    "        if factors == None:\n",
    "            factors = []\n",
    "        for i in range(2, n + 1):\n",
    "            if n % i == 0:\n",
    "                return set(self.prime_factorize(n // i, factor=i, factors=factors))\n",
    "            else:\n",
    "                continue\n",
    "        return factors\n",
    "        \n",
    "        \n",
    "        \n",
    "        \n",
    "        "
   ]
  },
  {
   "cell_type": "code",
   "execution_count": 82,
   "metadata": {},
   "outputs": [
    {
     "data": {
      "text/plain": [
       "{2, 3}"
      ]
     },
     "execution_count": 82,
     "metadata": {},
     "output_type": "execute_result"
    }
   ],
   "source": [
    "s = Solution()\n",
    "s.prime_factorize(144)"
   ]
  },
  {
   "cell_type": "code",
   "execution_count": 83,
   "metadata": {},
   "outputs": [
    {
     "name": "stderr",
     "output_type": "stream",
     "text": [
      "...\n",
      "----------------------------------------------------------------------\n",
      "Ran 3 tests in 0.002s\n",
      "\n",
      "OK\n"
     ]
    },
    {
     "data": {
      "text/plain": [
       "<unittest.runner.TextTestResult run=3 errors=0 failures=0>"
      ]
     },
     "execution_count": 83,
     "metadata": {},
     "output_type": "execute_result"
    }
   ],
   "source": [
    "# test ugly set logic\n",
    "class TestUglySet(unittest.TestCase):\n",
    "    \n",
    "    def setUp(self):\n",
    "        self.s = Solution()\n",
    "        \n",
    "    def test_full_set(self):\n",
    "        full_set = set([2,3,5])\n",
    "        self.assertTrue(self.s.isugly(full_set))\n",
    "    \n",
    "    def test_each_set(self):\n",
    "        sets = [set([i]) for i in [2, 3, 5]]\n",
    "        for st in sets:\n",
    "            self.assertTrue(self.s.isugly(st))\n",
    "            \n",
    "    def test_not_set(self):\n",
    "        not_set = set([7])\n",
    "        self.assertFalse(self.s.isugly(not_set))\n",
    "       \n",
    "\n",
    "def suite():\n",
    "    suite = unittest.TestSuite()\n",
    "    suite.addTest(TestUglySet('test_full_set'))\n",
    "    suite.addTest(TestUglySet('test_each_set'))\n",
    "    suite.addTest(TestUglySet('test_not_set'))\n",
    "    return suite\n",
    "    \n",
    "    \n",
    "runner = unittest.TextTestRunner()\n",
    "runner.run(suite())"
   ]
  },
  {
   "cell_type": "code",
   "execution_count": 84,
   "metadata": {},
   "outputs": [
    {
     "name": "stderr",
     "output_type": "stream",
     "text": [
      "...\n",
      "----------------------------------------------------------------------\n",
      "Ran 3 tests in 0.002s\n",
      "\n",
      "OK\n"
     ]
    },
    {
     "data": {
      "text/plain": [
       "<unittest.runner.TextTestResult run=3 errors=0 failures=0>"
      ]
     },
     "execution_count": 84,
     "metadata": {},
     "output_type": "execute_result"
    }
   ],
   "source": [
    "# test ugly number logic\n",
    "class TestUglyNumber(unittest.TestCase):\n",
    "    def setUp(self):\n",
    "        self.s = Solution()\n",
    "        \n",
    "    def test_base_uglies(self):\n",
    "        base_uglies = [2, 3, 5]\n",
    "        for n in base_uglies:\n",
    "            self.assertTrue(s.is_ugly_number(n))\n",
    "            \n",
    "    def test_not_ugly(self):\n",
    "        not_ugly = 7\n",
    "        self.assertFalse(s.is_ugly_number(not_ugly))\n",
    "        \n",
    "    def test_bigger_ugly(self):\n",
    "        ugly = 27\n",
    "        self.assertTrue(s.is_ugly_number(ugly))\n",
    "\n",
    "        \n",
    "            \n",
    "def suite():\n",
    "    suite = unittest.TestSuite()\n",
    "    suite.addTest(TestUglyNumber('test_base_uglies'))\n",
    "    suite.addTest(TestUglyNumber('test_not_ugly'))\n",
    "    suite.addTest(TestUglyNumber('test_bigger_ugly'))\n",
    "\n",
    "    return suite\n",
    "    \n",
    "    \n",
    "runner = unittest.TextTestRunner()\n",
    "runner.run(suite())"
   ]
  },
  {
   "cell_type": "code",
   "execution_count": 117,
   "metadata": {},
   "outputs": [
    {
     "name": "stdout",
     "output_type": "stream",
     "text": [
      "[1, 2, 3, 4, 5, 6, 8, 9, 10, 12, 15, 16, 18, 20, 24, 25, 27, 30, 32, 36]\n"
     ]
    },
    {
     "data": {
      "text/plain": [
       "36"
      ]
     },
     "execution_count": 117,
     "metadata": {},
     "output_type": "execute_result"
    }
   ],
   "source": [
    "s = Solution()\n",
    "s.nthUglyNumber(20)"
   ]
  }
 ],
 "metadata": {
  "kernelspec": {
   "display_name": "Python 3",
   "language": "python",
   "name": "python3"
  },
  "language_info": {
   "codemirror_mode": {
    "name": "ipython",
    "version": 3
   },
   "file_extension": ".py",
   "mimetype": "text/x-python",
   "name": "python",
   "nbconvert_exporter": "python",
   "pygments_lexer": "ipython3",
   "version": "3.7.3"
  }
 },
 "nbformat": 4,
 "nbformat_minor": 2
}
