{
 "cells": [
  {
   "cell_type": "markdown",
   "metadata": {},
   "source": [
    "# The nth ugly number\n",
    "Ugly numbers have prime factors of only 2, 3, and 5. We can do this by finding the prime factorization of each number and counting how many have 2, 3, 5 as their only prime factors. We can save on this by storing results for each of the prime factorizations.\n",
    "\n",
    "To determine a numbers prime factorization we repeeatedly divide it with the smallest prime number that it is divisible by until it becomes 1. This means we also need to know which numbers are prime numbers. Prime numbers are those whose prime factorizations are 1 and themselves. "
   ]
  },
  {
   "cell_type": "code",
   "execution_count": 120,
   "metadata": {},
   "outputs": [],
   "source": [
    "import unittest\n",
    "import numpy as np\n",
    "from matplotlib import pyplot as plt\n",
    "\n",
    "%matplotlib inline"
   ]
  },
  {
   "cell_type": "code",
   "execution_count": 121,
   "metadata": {},
   "outputs": [],
   "source": [
    "class Solution:\n",
    "    def nthUglyNumber(self, n: int) -> int:\n",
    "        count = 2\n",
    "        number = 2\n",
    "        numbers = [1]\n",
    "        while count <= n:\n",
    "            if self.is_ugly_number(number):\n",
    "                count += 1\n",
    "                numbers.append(number)\n",
    "                number += 1\n",
    "                \n",
    "            else:\n",
    "                number += 1\n",
    "        return numbers[-1]\n",
    "    \n",
    "    def is_ugly_number(self, number):\n",
    "        # check if a number is ugly\n",
    "        factorset = self.prime_factorize(number)\n",
    "        if self.isugly(factorset):\n",
    "            return True\n",
    "        else:\n",
    "            return False\n",
    "        \n",
    "    \n",
    "    def isugly(self, factorset):\n",
    "        # check if a set of numbers is ugly\n",
    "        uglyset = set([2, 3, 5])\n",
    "        if factorset.issubset(uglyset):\n",
    "            return True\n",
    "        else:\n",
    "            return False\n",
    "    \n",
    "    def prime_factorize(self, n, factor=None, factors=None):\n",
    "        if factor:\n",
    "            factors.append(factor)\n",
    "        if factors == None:\n",
    "            factors = []\n",
    "        for i in range(2, n + 1):\n",
    "            if n % i == 0:\n",
    "                return set(self.prime_factorize(n // i, factor=i, factors=factors))\n",
    "            else:\n",
    "                continue\n",
    "        return factors\n",
    "        \n",
    "        \n",
    "        \n",
    "        \n",
    "        "
   ]
  },
  {
   "cell_type": "code",
   "execution_count": 122,
   "metadata": {},
   "outputs": [
    {
     "data": {
      "text/plain": [
       "{2, 3}"
      ]
     },
     "execution_count": 122,
     "metadata": {},
     "output_type": "execute_result"
    }
   ],
   "source": [
    "s = Solution()\n",
    "s.prime_factorize(144)"
   ]
  },
  {
   "cell_type": "code",
   "execution_count": 123,
   "metadata": {},
   "outputs": [
    {
     "name": "stderr",
     "output_type": "stream",
     "text": [
      "...\n",
      "----------------------------------------------------------------------\n",
      "Ran 3 tests in 0.002s\n",
      "\n",
      "OK\n"
     ]
    },
    {
     "data": {
      "text/plain": [
       "<unittest.runner.TextTestResult run=3 errors=0 failures=0>"
      ]
     },
     "execution_count": 123,
     "metadata": {},
     "output_type": "execute_result"
    }
   ],
   "source": [
    "# test ugly set logic\n",
    "class TestUglySet(unittest.TestCase):\n",
    "    \n",
    "    def setUp(self):\n",
    "        self.s = Solution()\n",
    "        \n",
    "    def test_full_set(self):\n",
    "        full_set = set([2,3,5])\n",
    "        self.assertTrue(self.s.isugly(full_set))\n",
    "    \n",
    "    def test_each_set(self):\n",
    "        sets = [set([i]) for i in [2, 3, 5]]\n",
    "        for st in sets:\n",
    "            self.assertTrue(self.s.isugly(st))\n",
    "            \n",
    "    def test_not_set(self):\n",
    "        not_set = set([7])\n",
    "        self.assertFalse(self.s.isugly(not_set))\n",
    "       \n",
    "\n",
    "def suite():\n",
    "    suite = unittest.TestSuite()\n",
    "    suite.addTest(TestUglySet('test_full_set'))\n",
    "    suite.addTest(TestUglySet('test_each_set'))\n",
    "    suite.addTest(TestUglySet('test_not_set'))\n",
    "    return suite\n",
    "    \n",
    "    \n",
    "runner = unittest.TextTestRunner()\n",
    "runner.run(suite())"
   ]
  },
  {
   "cell_type": "code",
   "execution_count": 124,
   "metadata": {},
   "outputs": [
    {
     "name": "stderr",
     "output_type": "stream",
     "text": [
      "...\n",
      "----------------------------------------------------------------------\n",
      "Ran 3 tests in 0.002s\n",
      "\n",
      "OK\n"
     ]
    },
    {
     "data": {
      "text/plain": [
       "<unittest.runner.TextTestResult run=3 errors=0 failures=0>"
      ]
     },
     "execution_count": 124,
     "metadata": {},
     "output_type": "execute_result"
    }
   ],
   "source": [
    "# test ugly number logic\n",
    "class TestUglyNumber(unittest.TestCase):\n",
    "    def setUp(self):\n",
    "        self.s = Solution()\n",
    "        \n",
    "    def test_base_uglies(self):\n",
    "        base_uglies = [2, 3, 5]\n",
    "        for n in base_uglies:\n",
    "            self.assertTrue(s.is_ugly_number(n))\n",
    "            \n",
    "    def test_not_ugly(self):\n",
    "        not_ugly = 7\n",
    "        self.assertFalse(s.is_ugly_number(not_ugly))\n",
    "        \n",
    "    def test_bigger_ugly(self):\n",
    "        ugly = 27\n",
    "        self.assertTrue(s.is_ugly_number(ugly))\n",
    "\n",
    "        \n",
    "            \n",
    "def suite():\n",
    "    suite = unittest.TestSuite()\n",
    "    suite.addTest(TestUglyNumber('test_base_uglies'))\n",
    "    suite.addTest(TestUglyNumber('test_not_ugly'))\n",
    "    suite.addTest(TestUglyNumber('test_bigger_ugly'))\n",
    "\n",
    "    return suite\n",
    "    \n",
    "    \n",
    "runner = unittest.TextTestRunner()\n",
    "runner.run(suite())"
   ]
  },
  {
   "cell_type": "code",
   "execution_count": 125,
   "metadata": {},
   "outputs": [
    {
     "data": {
      "text/plain": [
       "36"
      ]
     },
     "execution_count": 125,
     "metadata": {},
     "output_type": "execute_result"
    }
   ],
   "source": [
    "s = Solution()\n",
    "s.nthUglyNumber(20)"
   ]
  },
  {
   "cell_type": "markdown",
   "metadata": {},
   "source": [
    "# Take 2\n",
    "Above brute force by repeatedly dividing by a prime number is good, but we end up repeatedly solving the same problem, we can save the solution and access it later to accelerate the algorithm"
   ]
  },
  {
   "cell_type": "code",
   "execution_count": 126,
   "metadata": {},
   "outputs": [],
   "source": [
    "class Solution2:\n",
    "    def nthUglyNumber(self, n: int) -> int:\n",
    "        count = 2\n",
    "        number = 2\n",
    "        numbers = [1]\n",
    "        #  initialize factor_dict outside of prime_factorize, this is where we will hold the previously calculated numbers\n",
    "        self.factor_dict = {} \n",
    "        \n",
    "        while count <= n:\n",
    "            if self.is_ugly_number(number):\n",
    "                count += 1\n",
    "                numbers.append(number)\n",
    "                number += 1\n",
    "                \n",
    "            else:\n",
    "                number += 1\n",
    "        return numbers[-1]\n",
    "    \n",
    "    def is_ugly_number(self, number):\n",
    "        # check if a number is ugly\n",
    "        factorset = self.prime_factorize(number)\n",
    "        self.factor_dict[number] = factorset\n",
    "        if self.isugly(factorset):\n",
    "            return True\n",
    "        else:\n",
    "            return False\n",
    "        \n",
    "    \n",
    "    def isugly(self, factorset):\n",
    "        # check if a set of numbers is ugly\n",
    "        uglyset = set([2, 3, 5])\n",
    "        if factorset.issubset(uglyset):\n",
    "            return True\n",
    "        else:\n",
    "            return False\n",
    "    \n",
    "    def prime_factorize(self, n, factor=None, factors=None):\n",
    "        if n in self.factor_dict.keys():\n",
    "            return self.factor_dict[n]\n",
    "        if factor:\n",
    "            factors.append(factor)\n",
    "        if factors == None:\n",
    "            factors = []\n",
    "        for i in range(2, n + 1):\n",
    "            if n % i == 0:\n",
    "                if n % i in self.factor_dict.keys():\n",
    "                    self.factor_dict[n] = self.factor_dict[n%i].union(set([i]))\n",
    "                    return self.factor_dict[n]\n",
    "                # note that this includes dividing by composite numbers, but if n were divisible by \n",
    "                # a composite number it would also be divisible by its factors which came prior.\n",
    "                return set(self.prime_factorize(n // i, factor=i, factors=factors))\n",
    "            else:\n",
    "                continue\n",
    "        return factors\n",
    "        "
   ]
  },
  {
   "cell_type": "code",
   "execution_count": 127,
   "metadata": {},
   "outputs": [
    {
     "name": "stderr",
     "output_type": "stream",
     "text": [
      "...\n",
      "----------------------------------------------------------------------\n",
      "Ran 3 tests in 0.002s\n",
      "\n",
      "OK\n"
     ]
    },
    {
     "data": {
      "text/plain": [
       "<unittest.runner.TextTestResult run=3 errors=0 failures=0>"
      ]
     },
     "execution_count": 127,
     "metadata": {},
     "output_type": "execute_result"
    }
   ],
   "source": [
    "class TestUglyNumber(unittest.TestCase):\n",
    "    def setUp(self):\n",
    "        self.s = Solution2()\n",
    "        \n",
    "    def test_base_uglies(self):\n",
    "        base_uglies = [2, 3, 5]\n",
    "        for n in base_uglies:\n",
    "            self.assertTrue(s.is_ugly_number(n))\n",
    "            \n",
    "    def test_not_ugly(self):\n",
    "        not_ugly = 7\n",
    "        self.assertFalse(s.is_ugly_number(not_ugly))\n",
    "        \n",
    "    def test_bigger_ugly(self):\n",
    "        ugly = 27\n",
    "        self.assertTrue(s.is_ugly_number(ugly))\n",
    "\n",
    "        \n",
    "            \n",
    "def suite():\n",
    "    suite = unittest.TestSuite()\n",
    "    suite.addTest(TestUglyNumber('test_base_uglies'))\n",
    "    suite.addTest(TestUglyNumber('test_not_ugly'))\n",
    "    suite.addTest(TestUglyNumber('test_bigger_ugly'))\n",
    "\n",
    "    return suite\n",
    "\n",
    "    \n",
    "runner = unittest.TextTestRunner()\n",
    "runner.run(suite())\n",
    "    "
   ]
  },
  {
   "cell_type": "code",
   "execution_count": 128,
   "metadata": {},
   "outputs": [],
   "source": [
    "from timeit import default_timer as timer\n",
    "\n",
    "ns = np.arange(2, 300)\n",
    "t_s1 = np.zeros(ns.shape[0])\n",
    "t_s2 = np.zeros(ns.shape[0])\n",
    "for i in range(ns.shape[0]):\n",
    "    s1_start = timer()\n",
    "    res = Solution().nthUglyNumber(ns[i])\n",
    "    s1_end = timer()\n",
    "    t_s1[i] = s1_end - s1_start\n",
    "    \n",
    "    s2_start = timer()\n",
    "    res = Solution2().nthUglyNumber(ns[i])\n",
    "    s2_end = timer()\n",
    "    t_s2[i] = s2_end - s2_start\n",
    "    \n",
    "    "
   ]
  },
  {
   "cell_type": "code",
   "execution_count": 129,
   "metadata": {},
   "outputs": [
    {
     "data": {
      "text/plain": [
       "Text(0, 0.5, 'time (s)')"
      ]
     },
     "execution_count": 129,
     "metadata": {},
     "output_type": "execute_result"
    },
    {
     "data": {
      "image/png": "[encoded data removed]",
      "text/plain": [
       "<Figure size 432x288 with 1 Axes>"
      ]
     },
     "metadata": {
      "needs_background": "light"
     },
     "output_type": "display_data"
    }
   ],
   "source": [
    "plt.figure()\n",
    "plt.plot(ns, t_s1, 'b*', label='first solution')\n",
    "plt.plot(ns, t_s2, 'r-', label='second solution')\n",
    "plt.xlabel('n')\n",
    "plt.ylabel('time (s)')\n"
   ]
  },
  {
   "cell_type": "markdown",
   "metadata": {},
   "source": [
    "That resulted in a modest increase in speed, but still not spectacular. We are computing a lot of extra stuff that perhaps we could ignore"
   ]
  },
  {
   "cell_type": "code",
   "execution_count": 130,
   "metadata": {},
   "outputs": [],
   "source": [
    "class Solution3:\n",
    "    def nthUglyNumber(self, n: int) -> int:\n",
    "        count = 2\n",
    "        number = 2\n",
    "        numbers = [1]\n",
    "        #  initialize factor_dict outside of prime_factorize, this is where we will hold the previously calculated numbers\n",
    "        self.factor_dict = {} \n",
    "        \n",
    "        while count <= n:\n",
    "            if self.is_ugly_number(number):\n",
    "                count += 1\n",
    "                numbers.append(number)\n",
    "                number += 1\n",
    "                \n",
    "            else:\n",
    "                number += 1\n",
    "        return numbers[-1]\n",
    "    \n",
    "    def is_ugly_number(self, number):\n",
    "        # check if a number is ugly\n",
    "        factorset = self.prime_factorize(number)\n",
    "        if not factorset:\n",
    "            factorset = set([number])\n",
    "        self.factor_dict[number] = factorset\n",
    "        if self.isugly(factorset):\n",
    "            return True\n",
    "        else:\n",
    "            return False\n",
    "        \n",
    "    \n",
    "    def isugly(self, factorset):\n",
    "        # check if a set of numbers is ugly\n",
    "        uglyset = set([2, 3, 5])\n",
    "        if factorset.issubset(uglyset):\n",
    "            return True\n",
    "        else:\n",
    "            return False\n",
    "    \n",
    "    def prime_factorize(self, n, factor=None, factors=None):\n",
    "        if n in self.factor_dict.keys():\n",
    "            return self.factor_dict[n]\n",
    "        if factor:\n",
    "            factors.append(factor)\n",
    "        if factors == None:\n",
    "            factors = []\n",
    "        for i in range(2, (n + 1) // 2 + 1): # we only need to check up to n/2 + 1\n",
    "            if n % i == 0:\n",
    "                if n % i in self.factor_dict.keys():\n",
    "                    self.factor_dict[n] = self.factor_dict[n%i].union(set([i]))\n",
    "                    return self.factor_dict[n]\n",
    "                # note that this includes dividing by composite numbers, but if n were divisible by \n",
    "                # a composite number it would also be divisible by its factors which came prior.\n",
    "                return set(self.prime_factorize(n // i, factor=i, factors=factors))\n",
    "            else:\n",
    "                continue\n",
    "        return factors"
   ]
  },
  {
   "cell_type": "code",
   "execution_count": 131,
   "metadata": {},
   "outputs": [],
   "source": [
    "t_s3 = np.zeros(ns.shape[0])\n",
    "for i in range(ns.shape[0]):\n",
    "    s3_start = timer()\n",
    "    res = Solution3().nthUglyNumber(ns[i])\n",
    "    s3_end = timer()\n",
    "    t_s3[i] = s3_end - s3_start\n",
    "    "
   ]
  },
  {
   "cell_type": "code",
   "execution_count": 132,
   "metadata": {},
   "outputs": [
    {
     "data": {
      "text/plain": [
       "<matplotlib.legend.Legend at 0x298803b6ef0>"
      ]
     },
     "execution_count": 132,
     "metadata": {},
     "output_type": "execute_result"
    },
    {
     "data": {
      "image/png": "[encoded data removed]",
      "text/plain": [
       "<Figure size 432x288 with 1 Axes>"
      ]
     },
     "metadata": {
      "needs_background": "light"
     },
     "output_type": "display_data"
    }
   ],
   "source": [
    "plt.figure()\n",
    "plt.plot(ns, t_s1, 'b*', label='first solution')\n",
    "plt.plot(ns, t_s2, 'r-', label='second solution')\n",
    "plt.plot(ns, t_s3, 'g.', label='third solution')\n",
    "plt.xlabel('n')\n",
    "plt.ylabel('time (s)')\n",
    "plt.legend()"
   ]
  }
 ],
 "metadata": {
  "kernelspec": {
   "display_name": "Python 3",
   "language": "python",
   "name": "python3"
  },
  "language_info": {
   "codemirror_mode": {
    "name": "ipython",
    "version": 3
   },
   "file_extension": ".py",
   "mimetype": "text/x-python",
   "name": "python",
   "nbconvert_exporter": "python",
   "pygments_lexer": "ipython3",
   "version": "3.7.3"
  }
 },
 "nbformat": 4,
 "nbformat_minor": 2
}
