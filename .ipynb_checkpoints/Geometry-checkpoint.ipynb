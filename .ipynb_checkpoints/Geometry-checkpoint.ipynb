{
 "cells": [
  {
   "cell_type": "markdown",
   "metadata": {
    "collapsed": true
   },
   "source": [
    "### Mirror Reflection\n",
    "    - simulate the progress of the ray for some very small timestep, t\n",
    "    - if x or y ever exceed the boundaries multiply velocity by -1 and the position by -1\n",
    "    \n",
    "    \n",
    "\n"
   ]
  },
  {
   "cell_type": "code",
   "execution_count": 9,
   "metadata": {},
   "outputs": [],
   "source": [
    "class Solution:\n",
    "    def mirrorReflection(self, p: int, q: int) -> int:\n",
    "        digits = 9\n",
    "        prec = 10**-digits\n",
    "        x, y = 0, 0\n",
    "        vx = p\n",
    "        vy = q\n",
    "        check = -1\n",
    "        t = prec/2\n",
    "        while True:\n",
    "            # check if x and y are in an corner\n",
    "            check = self.check_location(prec, x, y, p)\n",
    "            if check != -1:\n",
    "                return check\n",
    "            \n",
    "            x += vx * t\n",
    "            y += vy * t\n",
    "            if abs(x) < prec or abs(x - p) < prec:\n",
    "                vx *= -1\n",
    "                x *= -1\n",
    "                \n",
    "            if abs(y) < prec or abs(y - p) < prec:\n",
    "                vy *= -1\n",
    "                y *= -1             \n",
    "            \n",
    "            \n",
    "            \n",
    "            \n",
    "    def check_location(self, prec, x, y, p):\n",
    "        # Southeast corner\n",
    "        if abs(x-p) < prec and abs(y) < prec:\n",
    "            return 0\n",
    "        #Northeast corner\n",
    "        elif abs(x - p) < prec and abs(y - p) < prec:\n",
    "            return 1\n",
    "        #Southwest corner\n",
    "        elif abs(x) < prec and abs(y - p) < prec:\n",
    "            return 2\n",
    "        else:\n",
    "            return -1\n",
    "        "
   ]
  },
  {
   "cell_type": "code",
   "execution_count": 16,
   "metadata": {},
   "outputs": [
    {
     "name": "stdout",
     "output_type": "stream",
     "text": [
      "Expected: 0, Outcome: 0\n",
      "Expected: 1, Outcome: 1\n",
      "Expected: 2, Outcome: 2\n",
      "Expected: -1, Outcome: -1\n"
     ]
    }
   ],
   "source": [
    "s = Solution()\n",
    "\n",
    "print(\"Expected: {}, Outcome: {}\".format(0, s.check_location(.001, 1, 0, 1)))\n",
    "print(\"Expected: {}, Outcome: {}\".format(1, s.check_location(.001, 1, 1, 1)))\n",
    "print(\"Expected: {}, Outcome: {}\".format(2, s.check_location(.001, 0, 1, 1)))\n",
    "print(\"Expected: {}, Outcome: {}\".format(-1, s.check_location(.001, 0.002, 1, 1)))"
   ]
  }
 ],
 "metadata": {
  "kernelspec": {
   "display_name": "Python 3",
   "language": "python",
   "name": "python3"
  },
  "language_info": {
   "codemirror_mode": {
    "name": "ipython",
    "version": 3
   },
   "file_extension": ".py",
   "mimetype": "text/x-python",
   "name": "python",
   "nbconvert_exporter": "python",
   "pygments_lexer": "ipython3",
   "version": "3.7.3"
  }
 },
 "nbformat": 4,
 "nbformat_minor": 1
}
