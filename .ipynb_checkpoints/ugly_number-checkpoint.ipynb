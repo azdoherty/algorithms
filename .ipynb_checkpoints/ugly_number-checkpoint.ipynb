{
 "cells": [
  {
   "cell_type": "markdown",
   "metadata": {},
   "source": [
    "### The nth ugly number\n",
    "Ugly numbers have prime factors of only 2, 3, and 5. We can do this by finding the prime factorization of each number and counting how many have 2, 3, 5 as their only prime factors. We can save on this by storing results for each of the prime factorizations.\n",
    "\n",
    "To determine a numbers prime factorization we repeeatedly divide it with the smallest prime number that it is divisible by until it becomes 1. This means we also need to know which numbers are prime numbers. Prime numbers are those whose prime factorizations are 1 and themselves. "
   ]
  }
 ],
 "metadata": {
  "kernelspec": {
   "display_name": "Python 3",
   "language": "python",
   "name": "python3"
  },
  "language_info": {
   "codemirror_mode": {
    "name": "ipython",
    "version": 3
   },
   "file_extension": ".py",
   "mimetype": "text/x-python",
   "name": "python",
   "nbconvert_exporter": "python",
   "pygments_lexer": "ipython3",
   "version": "3.7.3"
  }
 },
 "nbformat": 4,
 "nbformat_minor": 2
}
