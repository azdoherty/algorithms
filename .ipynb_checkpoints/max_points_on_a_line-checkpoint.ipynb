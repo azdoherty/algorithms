{
 "cells": [
  {
   "cell_type": "markdown",
   "metadata": {},
   "source": [
    "# Maximum Points on a Line\n",
    " * From [leetcode](https://leetcode.com/problems/max-points-on-a-line/) \n",
    "\n",
    "Their phrasing is a bit unclear, but what they really want you to do is given a set of points determine the maximum of quantity of those points that could be on a single line, so we will operate under that assumption. \n",
    "\n",
    "Given $n$ points there are $ \\sum_{x=2}^n {n \\choose x} $ possible combinations of points that could form a line. That is to say you can choose any $x$ points where $x$ is between $2$ and $n$ and that could be a valid line so we need to check all of them. The good news is if you start from ${n \\choose n}$ and work backwards the first one you encounter will be the solution. This will be the first brute force attempt at a solution.\n",
    "\n",
    "## Sub-problems\n",
    "1. Do any n points form a line?\n",
    "    * Pick any 2 of the points and construct a line, $y = mx+b$ form\n",
    "    * for the remainder plug in x and see if y matches, if any are not matches return false\n",
    "    * else return true\n",
    "    \n",
    "2. What are the $ {n \\choose x} $ for all $x$\n",
    "\n",
    "\n",
    "## Edge Cases\n",
    "1. Should return 0 on an empty list\n",
    "2. Return 1 on a 1 element list\n",
    "3. Duplicate points get included in the overall count"
   ]
  },
  {
   "cell_type": "code",
   "execution_count": 7,
   "metadata": {},
   "outputs": [],
   "source": [
    "import itertools"
   ]
  },
  {
   "cell_type": "code",
   "execution_count": 32,
   "metadata": {},
   "outputs": [
    {
     "name": "stdout",
     "output_type": "stream",
     "text": [
      "next set\n"
     ]
    },
    {
     "data": {
      "text/plain": [
       "3"
      ]
     },
     "execution_count": 32,
     "metadata": {},
     "output_type": "execute_result"
    }
   ],
   "source": [
    "\n",
    "class Solution:\n",
    "    def maxPoints(self, points):\n",
    "        n = len(points)\n",
    "        if len(points) == 0:\n",
    "            return 0\n",
    "        elif len(points) == 1:\n",
    "            return 1\n",
    "        \n",
    "        for i in range(n, 1, -1):\n",
    "            combos = itertools.combinations(points, i)\n",
    "            print(\"next set\")\n",
    "            \n",
    "            for c in combos:\n",
    "                # special cases\n",
    "                pointset = list(set([tuple(p) for p in c])) # deal with duplicates\n",
    "                xset = set([p[0] for p in pointset])\n",
    "                yset = set([p[1] for p in pointset])\n",
    "                 # deal with duplicates\n",
    "                if len(xset) == 1 or len(yset) == 1:\n",
    "                    return len(c)\n",
    "                elif len(xset) != len(pointset) or len(yset) != len(pointset):\n",
    "                    continue\n",
    "                \n",
    "                if self.form_a_line(pointset):\n",
    "                    return len(c)\n",
    "                \n",
    "        return 0\n",
    "            \n",
    "            \n",
    "    def calc_slope(self, p1, p2):\n",
    "        return (p2[1] - p1[1])/(p2[0] - p1[0])\n",
    "    \n",
    "    def calc_intercept(self, m, point):\n",
    "        return point[1] - m*point[0]\n",
    "    \n",
    "    def on_a_line(self, m, b, point):\n",
    "        if m * point[0] + b == point[1]:\n",
    "            return True\n",
    "        return False\n",
    "            \n",
    "    def form_a_line(self, sub_points):\n",
    "        if len(sub_points) == 1:\n",
    "            return True\n",
    "        p1 = sub_points[0]\n",
    "        p2 = sub_points[1]\n",
    "        m = self.calc_slope(p1, p2)\n",
    "        b = self.calc_intercept(m, p1)\n",
    "        rest = sub_points[2:len(sub_points)]\n",
    "        for p in rest:\n",
    "            if not self.on_a_line(m, b, p):\n",
    "                return False\n",
    "        return True\n",
    "        \n",
    "            \n",
    "points = [[0,0],[1,1],[0,0]]\n",
    "s = Solution()\n",
    "s.maxPoints(points)\n",
    "\n",
    "        "
   ]
  }
 ],
 "metadata": {
  "kernelspec": {
   "display_name": "Python 3",
   "language": "python",
   "name": "python3"
  },
  "language_info": {
   "codemirror_mode": {
    "name": "ipython",
    "version": 3
   },
   "file_extension": ".py",
   "mimetype": "text/x-python",
   "name": "python",
   "nbconvert_exporter": "python",
   "pygments_lexer": "ipython3",
   "version": "3.7.3"
  }
 },
 "nbformat": 4,
 "nbformat_minor": 2
}
