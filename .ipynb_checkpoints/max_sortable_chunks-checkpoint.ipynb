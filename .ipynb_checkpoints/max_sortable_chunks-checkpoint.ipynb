{
 "cells": [
  {
   "cell_type": "code",
   "execution_count": 2,
   "metadata": {},
   "outputs": [],
   "source": [
    "import unittest\n",
    "import numpy as np\n",
    "from matplotlib import pyplot as plt\n",
    "\n",
    "%matplotlib inline"
   ]
  },
  {
   "cell_type": "markdown",
   "metadata": {},
   "source": [
    "### First Strategy\n",
    "The maximum possible number of chunks i n, where n is the length of the array. If the array is already sorted this will be the answer. Otherwise for any given chunk in the array it should be merged to the right if its min is less than the max of everything to the right, and merged to the left if its min is less than the max of the left."
   ]
  },
  {
   "cell_type": "code",
   "execution_count": 19,
   "metadata": {},
   "outputs": [
    {
     "ename": "SyntaxError",
     "evalue": "unexpected EOF while parsing (<ipython-input-19-80f38efd1cdb>, line 11)",
     "output_type": "error",
     "traceback": [
      "\u001b[1;36m  File \u001b[1;32m\"<ipython-input-19-80f38efd1cdb>\"\u001b[1;36m, line \u001b[1;32m11\u001b[0m\n\u001b[1;33m    # merge with right\u001b[0m\n\u001b[1;37m                      ^\u001b[0m\n\u001b[1;31mSyntaxError\u001b[0m\u001b[1;31m:\u001b[0m unexpected EOF while parsing\n"
     ]
    }
   ],
   "source": [
    "class Solution:\n",
    "    def maxChunksToSorted(self, arr) -> int:\n",
    "        # start with as many chunks as there are elements each of length 1\n",
    "        partitions = [(i, i+1) for i in range(len(arr))]\n",
    "        for i in range(len(partitions)-2, 0, -1):\n",
    "            p = partitions[i]\n",
    "            if min(arr[p[0]:p[1]]) < max[arr[partitions[0][0]:partitions[i-1][0]]]:\n",
    "                # current partition minimum less than left side maximum, merge current into left\n",
    "                pnew = ()\n",
    "            if max(arr[p[0]:p[1]]) > max[arr[partitions[i+1][0]:partitions[-1][0]]]:\n",
    "                # current partition maximum greater than right side minimum\n",
    "                pnew = (p[0], partitions[i+1][-1])\n",
    "                partitions[i] = pnew\n",
    "                partitions.pop(i+1)\n",
    "                "
   ]
  },
  {
   "cell_type": "code",
   "execution_count": 18,
   "metadata": {},
   "outputs": [
    {
     "name": "stdout",
     "output_type": "stream",
     "text": [
      "[51, 92, 14, 71, 60, 20, 82, 86, 74, 74, 87, 99, 23, 2, 21, 52, 1, 87, 29, 37]\n",
      "[37]\n",
      "[29]\n",
      "[87]\n",
      "[1]\n",
      "[52]\n",
      "[21]\n",
      "[2]\n",
      "[23]\n",
      "[99]\n",
      "[87]\n",
      "[74]\n",
      "[74]\n",
      "[86]\n",
      "[82]\n",
      "[20]\n",
      "[60]\n",
      "[71]\n",
      "[14]\n",
      "[92]\n",
      "[51]\n"
     ]
    }
   ],
   "source": [
    "np.random.seed(42)\n",
    "testlist = list(np.random.randint(0, 100, 20))\n",
    "s = Solution()\n",
    "print(testlist)\n",
    "s.maxChunksToSorted(testlist)"
   ]
  }
 ],
 "metadata": {
  "anaconda-cloud": {},
  "kernelspec": {
   "display_name": "Python 3",
   "language": "python",
   "name": "python3"
  },
  "language_info": {
   "codemirror_mode": {
    "name": "ipython",
    "version": 3
   },
   "file_extension": ".py",
   "mimetype": "text/x-python",
   "name": "python",
   "nbconvert_exporter": "python",
   "pygments_lexer": "ipython3",
   "version": "3.7.3"
  }
 },
 "nbformat": 4,
 "nbformat_minor": 1
}
