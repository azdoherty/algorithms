{
 "cells": [
  {
   "cell_type": "markdown",
   "metadata": {},
   "source": [
    "### Dividing 2 integers\n",
    " - problem: divide 2 integers without using division or multiplication\n",
    " - Approaches\n",
    "   - Subtract until nothing left, handle sign by moving things to a common side of the number line then flipping\n",
    "   - binary operators?\n"
   ]
  },
  {
   "cell_type": "code",
   "execution_count": 24,
   "metadata": {},
   "outputs": [],
   "source": [
    "# imports\n",
    "import unittest\n",
    "%matplotlib inline"
   ]
  },
  {
   "cell_type": "code",
   "execution_count": 25,
   "metadata": {},
   "outputs": [],
   "source": [
    "\n",
    "\n",
    "class Solution:\n",
    "    def divide(self, dividend: int, divisor: int) -> int:\n",
    "        # put everything on same side of number line\n",
    "        if divisor < 0 and dividend < 0:\n",
    "            divisor = 0 - divisor\n",
    "            dividend = 0 - dividend\n",
    "            flip = False\n",
    "            \n",
    "        elif divisor < 0:\n",
    "            divisor = 0 - divisor\n",
    "            flip = True\n",
    "            \n",
    "        else:\n",
    "            dividend = 0 - dividend\n",
    "            flip = True\n",
    "        \n",
    "        count = 0\n",
    "        residual = dividend\n",
    "        while residual >= 0:\n",
    "            residual -= divisor\n",
    "            count += 1\n",
    "            \n",
    "        if flip:\n",
    "            return 0 - (count - 1)\n",
    "        return count - 1\n",
    "        \n",
    "        "
   ]
  },
  {
   "cell_type": "code",
   "execution_count": 26,
   "metadata": {},
   "outputs": [
    {
     "name": "stderr",
     "output_type": "stream",
     "text": [
      "test_d1 (__main__.TestDivide) ... FAIL\n",
      "test_d2 (__main__.TestDivide) ... ok\n",
      "test_d3 (__main__.TestDivide) ... ok\n",
      "test_d4 (__main__.TestDivide) ... ok\n",
      "\n",
      "======================================================================\n",
      "FAIL: test_d1 (__main__.TestDivide)\n",
      "----------------------------------------------------------------------\n",
      "Traceback (most recent call last):\n",
      "  File \"<ipython-input-26-9037b50feace>\", line 6, in test_d1\n",
      "    self.assertEqual(solver.divide(4, 2), 2)\n",
      "AssertionError: 1 != 2\n",
      "\n",
      "----------------------------------------------------------------------\n",
      "Ran 4 tests in 0.005s\n",
      "\n",
      "FAILED (failures=1)\n"
     ]
    },
    {
     "data": {
      "text/plain": [
       "<unittest.main.TestProgram at 0x209d18d1080>"
      ]
     },
     "execution_count": 26,
     "metadata": {},
     "output_type": "execute_result"
    }
   ],
   "source": [
    "# test cases and times\n",
    "solver = Solution()\n",
    "class TestDivide(unittest.TestCase):\n",
    "\n",
    "    def test_d1(self):\n",
    "        self.assertEqual(solver.divide(4, 2), 2)\n",
    "        \n",
    "    def test_d2(self):\n",
    "        self.assertEqual(solver.divide(-4, 2), -2)\n",
    "    \n",
    "    def test_d3(self):\n",
    "        self.assertEqual(solver.divide(4, -2), -2)\n",
    "        \n",
    "    def test_d4(self):\n",
    "        self.assertEqual(solver.divide(-4, -2), 2)\n",
    "\n",
    "unittest.main(argv=[''], verbosity=2, exit=False)"
   ]
  }
 ],
 "metadata": {
  "kernelspec": {
   "display_name": "Python 3",
   "language": "python",
   "name": "python3"
  },
  "language_info": {
   "codemirror_mode": {
    "name": "ipython",
    "version": 3
   },
   "file_extension": ".py",
   "mimetype": "text/x-python",
   "name": "python",
   "nbconvert_exporter": "python",
   "pygments_lexer": "ipython3",
   "version": "3.7.3"
  }
 },
 "nbformat": 4,
 "nbformat_minor": 2
}
