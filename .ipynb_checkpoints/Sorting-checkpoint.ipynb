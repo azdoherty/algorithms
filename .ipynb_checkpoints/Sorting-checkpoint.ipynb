{
 "cells": [
  {
   "cell_type": "markdown",
   "metadata": {},
   "source": [
    "# Sorting\n",
    "\n",
    "From basic to advanced"
   ]
  },
  {
   "cell_type": "markdown",
   "metadata": {},
   "source": [
    "## Problem 1\n",
    "\n",
    "The basic sort - [problem](https://leetcode.com/problems/sort-an-array/)\n",
    "Sorting algorithms\n",
    "1. Bubble Sort - repeatedly pass through and compare and swap until a pass has no swaps\n",
    "2. Merge Sort\n",
    "3. Quicksort"
   ]
  },
  {
   "cell_type": "code",
   "execution_count": 3,
   "metadata": {},
   "outputs": [],
   "source": [
    "import numpy\n"
   ]
  },
  {
   "cell_type": "code",
   "execution_count": 14,
   "metadata": {},
   "outputs": [],
   "source": [
    "class BubbleSolution:\n",
    "    def sortArray(self, nums):\n",
    "        swapped = True\n",
    "        while swapped:\n",
    "            swapped = False\n",
    "            for i in range(len(nums) - 1):\n",
    "                if nums[i] > nums[i+1]:\n",
    "                    nums[i+1], nums[i] = nums[i], nums[i+1]\n",
    "                    swapped = True\n",
    "        return nums\n",
    "            \n",
    "        \n",
    "        "
   ]
  },
  {
   "cell_type": "code",
   "execution_count": 15,
   "metadata": {},
   "outputs": [
    {
     "data": {
      "text/plain": [
       "[1, 2, 3, 4, 5]"
      ]
     },
     "execution_count": 15,
     "metadata": {},
     "output_type": "execute_result"
    }
   ],
   "source": [
    "x = [5, 4, 3, 2, 1]\n",
    "s = BubbleSolution()\n",
    "s.sortArray(x)"
   ]
  },
  {
   "cell_type": "code",
   "execution_count": 16,
   "metadata": {},
   "outputs": [
    {
     "ename": "SyntaxError",
     "evalue": "invalid syntax (<ipython-input-16-275851630020>, line 6)",
     "output_type": "error",
     "traceback": [
      "\u001b[1;36m  File \u001b[1;32m\"<ipython-input-16-275851630020>\"\u001b[1;36m, line \u001b[1;32m6\u001b[0m\n\u001b[1;33m    right = [int(len(nums)/2):len(nums)]\u001b[0m\n\u001b[1;37m                             ^\u001b[0m\n\u001b[1;31mSyntaxError\u001b[0m\u001b[1;31m:\u001b[0m invalid syntax\n"
     ]
    }
   ],
   "source": [
    "class MergeSolution:\n",
    "    def sortArray(self, nums):\n",
    "        if len(nums) <= 1:\n",
    "            return nums\n",
    "        left = nums[0:int(len(nums)/2)]\n",
    "        right = nums[int(len(nums)/2):len(nums)]\n",
    "        \n",
    "        left = self.sortArray(left)\n",
    "        right = self.sortArray(right)\n",
    "        \n",
    "        return self.merge(left, right)\n",
    "    \n",
    "    def merge(self, left, right):\n",
    "        res = []\n",
    "        while len(left) > 0 and len(right) > 0:\n",
    "            if(left and right and left[0] =< right[0]) or (left and not right):\n",
    "                res.append(left.pop(0))\n",
    "            else:\n",
    "                resappend(right.pop(0))\n",
    "        return res\n",
    "                    \n",
    "        \n",
    "        "
   ]
  }
 ],
 "metadata": {
  "kernelspec": {
   "display_name": "Python 3",
   "language": "python",
   "name": "python3"
  },
  "language_info": {
   "codemirror_mode": {
    "name": "ipython",
    "version": 3
   },
   "file_extension": ".py",
   "mimetype": "text/x-python",
   "name": "python",
   "nbconvert_exporter": "python",
   "pygments_lexer": "ipython3",
   "version": "3.6.4"
  }
 },
 "nbformat": 4,
 "nbformat_minor": 2
}
