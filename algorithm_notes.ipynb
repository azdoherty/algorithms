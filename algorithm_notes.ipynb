{
 "cells": [
  {
   "cell_type": "markdown",
   "metadata": {},
   "source": [
    "### Dividing 2 integers\n",
    " - problem: divide 2 integers without using division or multiplication\n",
    " - Approaches\n",
    "   - ~~Subtract until nothing left, handle sign by moving things to a common side of the number line then flipping~~ This took way to darn long, especially when dividend >> divisor.\n",
    "   - binary operators?\n"
   ]
  },
  {
   "cell_type": "code",
   "execution_count": 1,
   "metadata": {},
   "outputs": [],
   "source": [
    "# imports\n",
    "import unittest\n",
    "%matplotlib inline"
   ]
  },
  {
   "cell_type": "code",
   "execution_count": 2,
   "metadata": {},
   "outputs": [],
   "source": [
    "\n",
    "\n",
    "class Solution:\n",
    "    def divide(self, dividend: int, divisor: int) -> int:\n",
    "        # put everything on same side of number line\n",
    "        if divisor < 0 and dividend < 0:\n",
    "            divisor = 0 - divisor\n",
    "            dividend = 0 - dividend\n",
    "            flip = False\n",
    "            \n",
    "        elif divisor < 0:\n",
    "            divisor = 0 - divisor\n",
    "            flip = True\n",
    "            \n",
    "        elif dividend < 0:\n",
    "            dividend = 0 - dividend\n",
    "            flip = True\n",
    "        else:\n",
    "            flip = False\n",
    "        \n",
    "        count = 0\n",
    "        residual = dividend\n",
    "        while residual >= 0:\n",
    "            residual -= divisor\n",
    "            count += 1\n",
    "            \n",
    "        if flip:\n",
    "            return 0 - (count - 1)\n",
    "        return count - 1\n",
    "        \n",
    "        "
   ]
  },
  {
   "cell_type": "code",
   "execution_count": 4,
   "metadata": {},
   "outputs": [
    {
     "name": "stderr",
     "output_type": "stream",
     "text": [
      "test_d1 (__main__.TestDivide) ... ok\n",
      "test_d2 (__main__.TestDivide) ... ok\n",
      "test_d3 (__main__.TestDivide) ... ok\n",
      "test_d4 (__main__.TestDivide) ... ok\n",
      "test_d5 (__main__.TestDivide) ... ok\n",
      "test_d6 (__main__.TestDivide) ... ok\n",
      "\n",
      "----------------------------------------------------------------------\n",
      "Ran 6 tests in 196.475s\n",
      "\n",
      "OK\n"
     ]
    },
    {
     "data": {
      "text/plain": [
       "<unittest.main.TestProgram at 0x175c856ca90>"
      ]
     },
     "execution_count": 4,
     "metadata": {},
     "output_type": "execute_result"
    }
   ],
   "source": [
    "# test cases and times\n",
    "solver = Solution()\n",
    "class TestDivide(unittest.TestCase):\n",
    "\n",
    "    def test_d1(self):\n",
    "        self.assertEqual(solver.divide(4, 2), 2)\n",
    "        \n",
    "    def test_d2(self):\n",
    "        self.assertEqual(solver.divide(-4, 2), -2)\n",
    "    \n",
    "    def test_d3(self):\n",
    "        self.assertEqual(solver.divide(4, -2), -2)\n",
    "        \n",
    "    def test_d4(self):\n",
    "        self.assertEqual(solver.divide(-4, -2), 2)\n",
    "        \n",
    "    def test_d5(self):\n",
    "        self.assertEqual(solver.divide(17, 3), 5)\n",
    "        \n",
    "    def test_d6(self):\n",
    "        self.assertEqual(solver.divide(-2147483648, -1), 2147483648)\n",
    "\n",
    "\n",
    "unittest.main(argv=[''], verbosity=2, exit=False)"
   ]
  }
 ],
 "metadata": {
  "kernelspec": {
   "display_name": "Python 3",
   "language": "python",
   "name": "python3"
  },
  "language_info": {
   "codemirror_mode": {
    "name": "ipython",
    "version": 3
   },
   "file_extension": ".py",
   "mimetype": "text/x-python",
   "name": "python",
   "nbconvert_exporter": "python",
   "pygments_lexer": "ipython3",
   "version": "3.7.3"
  }
 },
 "nbformat": 4,
 "nbformat_minor": 2
}
