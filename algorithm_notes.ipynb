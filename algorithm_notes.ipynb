{
 "cells": [
  {
   "cell_type": "markdown",
   "metadata": {},
   "source": [
    "### Dividing 2 integers\n",
    " - problem: divide 2 integers without using division or multiplication\n",
    " - Approaches\n",
    "   - ~~Subtract until nothing left, handle sign by moving things to a common side of the number line then flipping~~ This took way to darn long, especially when dividend >> divisor.\n",
    "   - Binary Long Division\n",
    "       1. Starting with the first digit in the dividend (this will be the temporary dividend) determine if the divisor is larger than that\n",
    "           * if yes:\n",
    "               * write a one above that digit, subtract dividend from that digit\n",
    "           * if no\n",
    "               * write a 0 above that digit, add the next digit in the divisor to the temporary dividend and repeat.\n"
   ]
  },
  {
   "cell_type": "code",
   "execution_count": 2,
   "metadata": {},
   "outputs": [],
   "source": [
    "# imports\n",
    "import unittest\n",
    "%matplotlib inline"
   ]
  },
  {
   "cell_type": "code",
   "execution_count": 3,
   "metadata": {},
   "outputs": [],
   "source": [
    "class Solution:\n",
    "    def determine_sign(self, dividend, divisor):\n",
    "        # put everything on same side of number line\n",
    "        if divisor < 0 and dividend < 0:\n",
    "            divisor = 0 - divisor\n",
    "            dividend = 0 - dividend\n",
    "            flip = False\n",
    "            \n",
    "        elif divisor < 0:\n",
    "            divisor = 0 - divisor\n",
    "            flip = True\n",
    "            \n",
    "        elif dividend < 0:\n",
    "            dividend = 0 - dividend\n",
    "            flip = True\n",
    "        else:\n",
    "            flip = False\n",
    "            \n",
    "        self.flip = flip\n",
    "        \n",
    "    def divide(self, dividend: int, divisor: int) -> int:\n",
    "        self.determine_sign(dividend, divisor)\n",
    "        count = 0\n",
    "        residual = dividend\n",
    "        while residual >= 0:\n",
    "            residual -= divisor\n",
    "            count += 1\n",
    "            \n",
    "        if self.flip:\n",
    "            return 0 - (count - 1)\n",
    "        return count - 1\n",
    "        \n",
    "        "
   ]
  },
  {
   "cell_type": "code",
   "execution_count": null,
   "metadata": {},
   "outputs": [],
   "source": [
    "# test cases and times\n",
    "solver = Solution()\n",
    "class TestDivide(unittest.TestCase):\n",
    "\n",
    "    def test_d1(self):\n",
    "        self.assertEqual(solver.divide(4, 2), 2)\n",
    "        \n",
    "        \n",
    "    #def test_d6(self):\n",
    "    #    self.assertEqual(solver.divide(-2147483648, -1), 2147483648)\n",
    "    # takes way too long in 1st case\n",
    "\n",
    "unittest.main(argv=[''], verbosity=2, exit=False)"
   ]
  },
  {
   "cell_type": "code",
   "execution_count": 29,
   "metadata": {},
   "outputs": [],
   "source": [
    "class Solution(Solution):\n",
    "    def divide(self, dividend: int, divisor: int) -> int:\n",
    "        # put everything on same side of number line\n",
    "        # because python binary strings start with 0b the first digit is the 3rd\n",
    "        place = 3\n",
    "        result = '0b'\n",
    "        dividend = bin(dividend)\n",
    "        divisor = bin(divisor)\n",
    "        div_temp = dividend[0:place]\n",
    "        while len(result) < len(dividend):\n",
    "            if int(divisor, 2) > int(div_temp, 2):\n",
    "                result += '0'\n",
    "                place += 1\n",
    "                div_temp = div_temp + dividend[place-2]\n",
    "            else:\n",
    "                result += '1'\n",
    "                place += 1\n",
    "                div_temp = bin(int(div_temp, 2) - int(divisor, 2)) + dividend[place-2]\n",
    "            \n",
    "            print(result)\n",
    "        return int(result, 2)\n",
    "                \n",
    "                \n",
    "            \n",
    "        "
   ]
  },
  {
   "cell_type": "code",
   "execution_count": 30,
   "metadata": {},
   "outputs": [
    {
     "name": "stdout",
     "output_type": "stream",
     "text": [
      "0b0\n",
      "0b01\n",
      "0b011\n",
      "0b0110\n"
     ]
    },
    {
     "data": {
      "text/plain": [
       "6"
      ]
     },
     "execution_count": 30,
     "metadata": {},
     "output_type": "execute_result"
    }
   ],
   "source": [
    "s = Solution()\n",
    "s.divide(10, 2)"
   ]
  },
  {
   "cell_type": "code",
   "execution_count": null,
   "metadata": {},
   "outputs": [],
   "source": []
  }
 ],
 "metadata": {
  "kernelspec": {
   "display_name": "Python 3",
   "language": "python",
   "name": "python3"
  },
  "language_info": {
   "codemirror_mode": {
    "name": "ipython",
    "version": 3
   },
   "file_extension": ".py",
   "mimetype": "text/x-python",
   "name": "python",
   "nbconvert_exporter": "python",
   "pygments_lexer": "ipython3",
   "version": "3.7.3"
  }
 },
 "nbformat": 4,
 "nbformat_minor": 2
}
