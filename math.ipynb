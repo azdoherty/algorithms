{
 "cells": [
  {
   "cell_type": "markdown",
   "metadata": {},
   "source": [
    "### Dividing 2 integers\n",
    " - problem: divide 2 integers without using division or multiplication\n",
    " - Approaches\n",
    "   - ~~Subtract until nothing left, handle sign by moving things to a common side of the number line then flipping~~ This took way to darn long, especially when dividend >> divisor.\n",
    "   - Binary Long Division\n",
    "       1. Starting with the first digit in the dividend (this will be the temporary dividend) determine if the divisor is larger than that\n",
    "           * if yes:\n",
    "               * write a one above that digit, subtract dividend from that digit\n",
    "           * if no\n",
    "               * write a 0 above that digit, add the next digit in the divisor to the temporary dividend and repeat.\n",
    "           * Leetcode accepts this answer as sufficiently fast\n"
   ]
  },
  {
   "cell_type": "code",
   "execution_count": 3,
   "metadata": {
    "collapsed": true
   },
   "outputs": [],
   "source": [
    "# imports\n",
    "import unittest\n",
    "from matplotlib import pyplot as plt\n",
    "%matplotlib inline"
   ]
  },
  {
   "cell_type": "code",
   "execution_count": 4,
   "metadata": {
    "collapsed": true
   },
   "outputs": [],
   "source": [
    "class Solution:\n",
    "    def __init(self):\n",
    "        pass\n",
    "    def determine_sign(self, dividend, divisor):\n",
    "        # put everything on same side of number line\n",
    "        if divisor < 0 and dividend < 0:\n",
    "            divisor = 0 - divisor\n",
    "            dividend = 0 - dividend\n",
    "            flip = False\n",
    "            \n",
    "        elif divisor < 0:\n",
    "            divisor = 0 - divisor\n",
    "            flip = True\n",
    "            \n",
    "        elif dividend < 0:\n",
    "            dividend = 0 - dividend\n",
    "            flip = True\n",
    "        else:\n",
    "            flip = False\n",
    "            \n",
    "        self.flip = flip\n",
    "        return divisor, dividend\n",
    "        \n",
    "    def divide(self, dividend: int, divisor: int) -> int:\n",
    "        divisor, dividend = self.determine_sign(dividend, divisor)\n",
    "        count = 0\n",
    "        residual = dividend\n",
    "        while residual >= 0:\n",
    "            residual -= divisor\n",
    "            count += 1\n",
    "            \n",
    "        if self.flip:\n",
    "            return 0 - (count - 1)\n",
    "        return count - 1\n",
    "        \n",
    "        "
   ]
  },
  {
   "cell_type": "code",
   "execution_count": 5,
   "metadata": {
    "collapsed": false
   },
   "outputs": [
    {
     "name": "stdout",
     "output_type": "stream",
     "text": [
      "Expected: 2 actual: 2\n",
      "Expected: 2 actual: 2\n",
      "Expected: -2 actual: -2\n",
      "Expected: -2 actual: -2\n",
      "Expected: 8 actual: 8\n"
     ]
    }
   ],
   "source": [
    "# test cases and times\n",
    "solver = Solution()\n",
    "print(\"Expected: {} actual: {}\".format(2, solver.divide(4,2)))\n",
    "print(\"Expected: {} actual: {}\".format(2, solver.divide(-4,-2)))\n",
    "print(\"Expected: {} actual: {}\".format(-2, solver.divide(4,-2)))\n",
    "print(\"Expected: {} actual: {}\".format(-2, solver.divide(-4,2)))\n",
    "print(\"Expected: {} actual: {}\".format(8, solver.divide(73,9)))\n",
    "\n"
   ]
  },
  {
   "cell_type": "code",
   "execution_count": 8,
   "metadata": {
    "collapsed": false
   },
   "outputs": [],
   "source": [
    "class Solution1():\n",
    "    def divide(self, dividend: int, divisor: int) -> int:\n",
    "        # put everything on same side of number line\n",
    "        # because python binary strings start with 0b the first digit is the 3rd\n",
    "        if divisor < 0 and dividend < 0:\n",
    "            divisor = 0 - divisor\n",
    "            dividend = 0 - dividend\n",
    "            flip = False\n",
    "            \n",
    "        elif divisor < 0:\n",
    "            divisor = 0 - divisor\n",
    "            flip = True\n",
    "            \n",
    "        elif dividend < 0:\n",
    "            dividend = 0 - dividend\n",
    "            flip = True\n",
    "        else:\n",
    "            flip = False\n",
    "        \n",
    "        \n",
    "        place = 2\n",
    "        result = '0b'\n",
    "        dividend = bin(dividend)\n",
    "        divisor = bin(divisor)\n",
    "        div_temp = dividend[0:place]\n",
    "        for i in range(place, len(dividend)):\n",
    "            div_temp += dividend[i]\n",
    "            if int(divisor, 2) > int(div_temp, 2):\n",
    "                result += '0'\n",
    "            else:\n",
    "                result += '1'\n",
    "                div_temp = bin(int(div_temp, 2) - int(divisor, 2))\n",
    "                \n",
    "        \n",
    "        if flip:\n",
    "            if int(result, 2) >  2147483648:\n",
    "                return -2147483647\n",
    "            return 0 - int(result, 2)\n",
    "        else:\n",
    "            if int(result, 2) >  2147483647:\n",
    "                return 2147483647\n",
    "        return int(result, 2)\n",
    "                \n",
    "                \n",
    "         \n",
    "        "
   ]
  },
  {
   "cell_type": "code",
   "execution_count": 9,
   "metadata": {
    "collapsed": false
   },
   "outputs": [
    {
     "data": {
      "text/plain": [
       "2147483647"
      ]
     },
     "execution_count": 9,
     "metadata": {},
     "output_type": "execute_result"
    }
   ],
   "source": [
    "s = Solution1()\n",
    "\n",
    "s.divide(-2147483648,-1)"
   ]
  },
  {
   "cell_type": "code",
   "execution_count": 32,
   "metadata": {
    "collapsed": false
   },
   "outputs": [
    {
     "name": "stdout",
     "output_type": "stream",
     "text": [
      "[0. 0. 0. 0. 0. 0.] [0.00000000e+00 0.00000000e+00 5.01108170e-03 8.58809948e-02\n",
      " 1.69402051e+00 3.70886965e+01]\n"
     ]
    },
    {
     "data": {
      "text/plain": [
       "(-1, 50)"
      ]
     },
     "execution_count": 32,
     "metadata": {},
     "output_type": "execute_result"
    },
    {
     "data": {
      "image/png": "[encoded data removed]",
      "text/plain": [
       "<matplotlib.figure.Figure at 0x1413b7b1080>"
      ]
     },
     "metadata": {},
     "output_type": "display_data"
    }
   ],
   "source": [
    "import numpy as np\n",
    "import time\n",
    "def time_results(sln, numbers):\n",
    "    times = np.zeros(numbers.shape)\n",
    "    for i in range(numbers.shape[0]):\n",
    "        t1 = time.time()\n",
    "        times[i] = sln.divide(numbers[i], 3)\n",
    "        t2 = time.time()\n",
    "        times[i] = t2 - t1\n",
    "    return times\n",
    "\n",
    "test_numbers = np.array([i**i for i in range(4, 10)])\n",
    "times1 = time_results(Solution1(), test_numbers)\n",
    "times2 = time_results(Solution(), test_numbers)\n",
    "print(times1, times2)\n",
    "plt.figure()\n",
    "plt.plot(test_numbers, times1, 'r.')\n",
    "plt.plot(test_numbers, times2, 'b.')\n",
    "plt.ylim([-1, 50])\n"
   ]
  },
  {
   "cell_type": "code",
   "execution_count": null,
   "metadata": {
    "collapsed": false
   },
   "outputs": [],
   "source": []
  }
 ],
 "metadata": {
  "anaconda-cloud": {},
  "kernelspec": {
   "display_name": "Python [default]",
   "language": "python",
   "name": "python3"
  },
  "language_info": {
   "codemirror_mode": {
    "name": "ipython",
    "version": 3
   },
   "file_extension": ".py",
   "mimetype": "text/x-python",
   "name": "python",
   "nbconvert_exporter": "python",
   "pygments_lexer": "ipython3",
   "version": "3.5.5"
  }
 },
 "nbformat": 4,
 "nbformat_minor": 2
}
