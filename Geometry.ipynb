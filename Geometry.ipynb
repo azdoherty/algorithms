{
 "cells": [
  {
   "cell_type": "markdown",
   "metadata": {
    "collapsed": true
   },
   "source": [
    "### Mirror Reflection\n",
    "    - simulate the progress of the ray for some very small timestep, t\n",
    "    - if x or y ever exceed the boundaries multiply velocity by -1 and the position by -1\n",
    "    \n",
    "    \n",
    "\n"
   ]
  },
  {
   "cell_type": "code",
   "execution_count": null,
   "metadata": {},
   "outputs": [],
   "source": [
    "import numpy as np\n",
    "import time\n",
    "from matplotlib import pyplot as plt\n",
    "%matplotlib inline"
   ]
  },
  {
   "cell_type": "code",
   "execution_count": 2,
   "metadata": {},
   "outputs": [],
   "source": [
    "class Solution:\n",
    "    def mirrorReflection(self, p: int, q: int) -> int:\n",
    "        digits = 4\n",
    "        prec = 10**-digits\n",
    "        x, y = 0, 0\n",
    "        vx = p\n",
    "        vy = q\n",
    "        check = -1\n",
    "        t = prec/2\n",
    "        xs = []\n",
    "        ys = []\n",
    "        maxiter = digits ** 10\n",
    "        iters = 0\n",
    "        while True:\n",
    "            # check if x and y are in an corner\n",
    "            iters += 1\n",
    "            if iters > maxiter:\n",
    "                return xs, ys\n",
    "            check = self.check_location(prec, x, y, p)\n",
    "            if check != -1:\n",
    "                return check\n",
    "            xs.append(x)\n",
    "            ys.append(y)\n",
    "            x += vx * t\n",
    "            y += vy * t\n",
    "            if x < 0 or x > p:\n",
    "                vx *= -1\n",
    "                if x < 0:\n",
    "                    x = -x\n",
    "                elif x > p:\n",
    "                    x = 2 * p - x\n",
    "                \n",
    "            if y < 0 or y > p:\n",
    "                if y < 0:\n",
    "                    y = - y\n",
    "                elif y > p:\n",
    "                    y = 2 * p - y \n",
    "              \n",
    "            \n",
    "    def check_location(self, prec, x, y, p):\n",
    "        # Southeast corner\n",
    "        if abs(x-p) < prec and abs(y) < prec:\n",
    "            return 0\n",
    "        #Northeast corner\n",
    "        elif abs(x - p) < prec and abs(y - p) < prec:\n",
    "            return 1\n",
    "        #Southwest corner\n",
    "        elif abs(x) < prec and abs(y - p) < prec:\n",
    "            return 2\n",
    "        else:\n",
    "            return -1\n",
    "        "
   ]
  },
  {
   "cell_type": "code",
   "execution_count": 3,
   "metadata": {},
   "outputs": [
    {
     "name": "stdout",
     "output_type": "stream",
     "text": [
      "Expected: 0, Outcome: 0\n",
      "Expected: 1, Outcome: 1\n",
      "Expected: 2, Outcome: 2\n",
      "Expected: -1, Outcome: -1\n"
     ]
    }
   ],
   "source": [
    "s = Solution()\n",
    "# some basic tests\n",
    "print(\"Expected: {}, Outcome: {}\".format(0, s.check_location(.001, 1, 0, 1)))\n",
    "print(\"Expected: {}, Outcome: {}\".format(1, s.check_location(.001, 1, 1, 1)))\n",
    "print(\"Expected: {}, Outcome: {}\".format(2, s.check_location(.001, 0, 1, 1)))\n",
    "print(\"Expected: {}, Outcome: {}\".format(-1, s.check_location(.001, 0.002, 1, 1)))"
   ]
  },
  {
   "cell_type": "code",
   "execution_count": 5,
   "metadata": {},
   "outputs": [
    {
     "name": "stdout",
     "output_type": "stream",
     "text": [
      "Result: 2\n"
     ]
    }
   ],
   "source": [
    "# some more advanced tests\n",
    "# 4, 1 > 2\n",
    "s = Solution()\n",
    "p = 4\n",
    "q = 1\n",
    "r = s.mirrorReflection(p, q)\n",
    "if type(r) != int:\n",
    "    plt.plot(r[0], r[1])\n",
    "    plt.xlim([0, p])\n",
    "    plt.ylim([0, p])\n",
    "else:\n",
    "    print(f\"Result: {r}\")"
   ]
  },
  {
   "cell_type": "markdown",
   "metadata": {},
   "source": [
    "So That approach was very slow, and even "
   ]
  }
 ],
 "metadata": {
  "kernelspec": {
   "display_name": "Python 3",
   "language": "python",
   "name": "python3"
  },
  "language_info": {
   "codemirror_mode": {
    "name": "ipython",
    "version": 3
   },
   "file_extension": ".py",
   "mimetype": "text/x-python",
   "name": "python",
   "nbconvert_exporter": "python",
   "pygments_lexer": "ipython3",
   "version": "3.7.3"
  }
 },
 "nbformat": 4,
 "nbformat_minor": 1
}
