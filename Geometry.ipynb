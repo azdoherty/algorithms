{
 "cells": [
  {
   "cell_type": "markdown",
   "metadata": {
    "collapsed": true
   },
   "source": [
    "### Mirror Reflection\n",
    "    - simulate the progress of the ray for some very small timestep, t\n",
    "    - if x or y ever exceed the boundaries multiply velocity by -1 and the position by -1\n",
    "    \n",
    "    \n",
    "\n"
   ]
  },
  {
   "cell_type": "code",
   "execution_count": null,
   "metadata": {},
   "outputs": [],
   "source": [
    "import numpy as np\n",
    "import time\n",
    "from matplotlib import pyplot as plt\n",
    "%matplotlib inline"
   ]
  },
  {
   "cell_type": "code",
   "execution_count": 14,
   "metadata": {},
   "outputs": [],
   "source": [
    "class Solution:\n",
    "    def mirrorReflection(self, p: int, q: int) -> int:\n",
    "        digits = 9\n",
    "        prec = 10**-digits\n",
    "        x, y = 0, 0\n",
    "        vx = p\n",
    "        vy = q\n",
    "        check = -1\n",
    "        t = prec/2\n",
    "        xs = []\n",
    "        ys = []\n",
    "        maxiter = digits ** 10\n",
    "        iters = 0\n",
    "        while True:\n",
    "            # check if x and y are in an corner\n",
    "            iters += 1\n",
    "            if iters > maxiter:\n",
    "                return xs, ys\n",
    "            check = self.check_location(prec, x, y, p)\n",
    "            if check != -1:\n",
    "                return check\n",
    "            xs.append(x)\n",
    "            ys.append(y)\n",
    "            x += vx * t\n",
    "            y += vy * t\n",
    "            if x < 0 or x > p:\n",
    "                vx *= -1\n",
    "                if x < 0:\n",
    "                    x = -x\n",
    "                elif x > p:\n",
    "                    x = 2 * p - x\n",
    "                \n",
    "            if y < 0 or y > p:\n",
    "                if y < 0:\n",
    "                    y = - y\n",
    "                elif y > p:\n",
    "                    y = 2 * p - y \n",
    "              \n",
    "            \n",
    "    def check_location(self, prec, x, y, p):\n",
    "        # Southeast corner\n",
    "        if abs(x-p) < prec and abs(y) < prec:\n",
    "            return 0\n",
    "        #Northeast corner\n",
    "        elif abs(x - p) < prec and abs(y - p) < prec:\n",
    "            return 1\n",
    "        #Southwest corner\n",
    "        elif abs(x) < prec and abs(y - p) < prec:\n",
    "            return 2\n",
    "        else:\n",
    "            return -1\n",
    "        "
   ]
  },
  {
   "cell_type": "code",
   "execution_count": 3,
   "metadata": {},
   "outputs": [
    {
     "name": "stdout",
     "output_type": "stream",
     "text": [
      "Expected: 0, Outcome: 0\n",
      "Expected: 1, Outcome: 1\n",
      "Expected: 2, Outcome: 2\n",
      "Expected: -1, Outcome: -1\n"
     ]
    }
   ],
   "source": [
    "s = Solution()\n",
    "# some basic tests\n",
    "print(\"Expected: {}, Outcome: {}\".format(0, s.check_location(.001, 1, 0, 1)))\n",
    "print(\"Expected: {}, Outcome: {}\".format(1, s.check_location(.001, 1, 1, 1)))\n",
    "print(\"Expected: {}, Outcome: {}\".format(2, s.check_location(.001, 0, 1, 1)))\n",
    "print(\"Expected: {}, Outcome: {}\".format(-1, s.check_location(.001, 0.002, 1, 1)))"
   ]
  },
  {
   "cell_type": "code",
   "execution_count": 15,
   "metadata": {},
   "outputs": [
    {
     "ename": "MemoryError",
     "evalue": "",
     "output_type": "error",
     "traceback": [
      "\u001b[1;31m---------------------------------------------------------------------------\u001b[0m",
      "\u001b[1;31mMemoryError\u001b[0m                               Traceback (most recent call last)",
      "\u001b[1;32m<ipython-input-15-e998bc12ed34>\u001b[0m in \u001b[0;36m<module>\u001b[1;34m\u001b[0m\n\u001b[0;32m      5\u001b[0m \u001b[0mp\u001b[0m \u001b[1;33m=\u001b[0m \u001b[1;36m3\u001b[0m\u001b[1;33m\u001b[0m\u001b[1;33m\u001b[0m\u001b[0m\n\u001b[0;32m      6\u001b[0m \u001b[0mq\u001b[0m \u001b[1;33m=\u001b[0m \u001b[1;36m2\u001b[0m\u001b[1;33m\u001b[0m\u001b[1;33m\u001b[0m\u001b[0m\n\u001b[1;32m----> 7\u001b[1;33m \u001b[0mr\u001b[0m \u001b[1;33m=\u001b[0m \u001b[0ms\u001b[0m\u001b[1;33m.\u001b[0m\u001b[0mmirrorReflection\u001b[0m\u001b[1;33m(\u001b[0m\u001b[0mp\u001b[0m\u001b[1;33m,\u001b[0m \u001b[0mq\u001b[0m\u001b[1;33m)\u001b[0m\u001b[1;33m\u001b[0m\u001b[1;33m\u001b[0m\u001b[0m\n\u001b[0m\u001b[0;32m      8\u001b[0m \u001b[1;32mif\u001b[0m \u001b[0mtype\u001b[0m\u001b[1;33m(\u001b[0m\u001b[0mr\u001b[0m\u001b[1;33m)\u001b[0m \u001b[1;33m!=\u001b[0m \u001b[0mint\u001b[0m\u001b[1;33m:\u001b[0m\u001b[1;33m\u001b[0m\u001b[1;33m\u001b[0m\u001b[0m\n\u001b[0;32m      9\u001b[0m     \u001b[0mplt\u001b[0m\u001b[1;33m.\u001b[0m\u001b[0mplot\u001b[0m\u001b[1;33m(\u001b[0m\u001b[0mr\u001b[0m\u001b[1;33m[\u001b[0m\u001b[1;36m0\u001b[0m\u001b[1;33m]\u001b[0m\u001b[1;33m,\u001b[0m \u001b[0mr\u001b[0m\u001b[1;33m[\u001b[0m\u001b[1;36m1\u001b[0m\u001b[1;33m]\u001b[0m\u001b[1;33m)\u001b[0m\u001b[1;33m\u001b[0m\u001b[1;33m\u001b[0m\u001b[0m\n",
      "\u001b[1;32m<ipython-input-14-38669b488332>\u001b[0m in \u001b[0;36mmirrorReflection\u001b[1;34m(self, p, q)\u001b[0m\n\u001b[0;32m     20\u001b[0m             \u001b[1;32mif\u001b[0m \u001b[0mcheck\u001b[0m \u001b[1;33m!=\u001b[0m \u001b[1;33m-\u001b[0m\u001b[1;36m1\u001b[0m\u001b[1;33m:\u001b[0m\u001b[1;33m\u001b[0m\u001b[1;33m\u001b[0m\u001b[0m\n\u001b[0;32m     21\u001b[0m                 \u001b[1;32mreturn\u001b[0m \u001b[0mcheck\u001b[0m\u001b[1;33m\u001b[0m\u001b[1;33m\u001b[0m\u001b[0m\n\u001b[1;32m---> 22\u001b[1;33m             \u001b[0mxs\u001b[0m\u001b[1;33m.\u001b[0m\u001b[0mappend\u001b[0m\u001b[1;33m(\u001b[0m\u001b[0mx\u001b[0m\u001b[1;33m)\u001b[0m\u001b[1;33m\u001b[0m\u001b[1;33m\u001b[0m\u001b[0m\n\u001b[0m\u001b[0;32m     23\u001b[0m             \u001b[0mys\u001b[0m\u001b[1;33m.\u001b[0m\u001b[0mappend\u001b[0m\u001b[1;33m(\u001b[0m\u001b[0my\u001b[0m\u001b[1;33m)\u001b[0m\u001b[1;33m\u001b[0m\u001b[1;33m\u001b[0m\u001b[0m\n\u001b[0;32m     24\u001b[0m             \u001b[0mx\u001b[0m \u001b[1;33m+=\u001b[0m \u001b[0mvx\u001b[0m \u001b[1;33m*\u001b[0m \u001b[0mt\u001b[0m\u001b[1;33m\u001b[0m\u001b[1;33m\u001b[0m\u001b[0m\n",
      "\u001b[1;31mMemoryError\u001b[0m: "
     ]
    }
   ],
   "source": [
    "# some more advanced tests\n",
    "# 4, 1 > 2\n",
    "# 3, 2 > 0\n",
    "s = Solution()\n",
    "p = 3\n",
    "q = 2\n",
    "r = s.mirrorReflection(p, q)\n",
    "if type(r) != int:\n",
    "    plt.plot(r[0], r[1])\n",
    "    plt.xlim([0, p])\n",
    "    plt.ylim([0, p])\n",
    "else:\n",
    "    print(f\"Result: {r}\")"
   ]
  },
  {
   "cell_type": "markdown",
   "metadata": {},
   "source": [
    "\n",
    "### A smarter approach\n",
    "\n",
    "So That approach was very slow, and even resulted in incorrect answers if the precision was not set arbitrarily high. Another potential solution would be to see if the total x and y distances traveled were both divisible by p, because that will mean the ray has hit a corner. The total path for time n (assuming n is an integer) is $<np, nq>$ and $np \\% p$ is always 0, so we need to determine for what n $nq \\% p$ is 0. Once that is determined we know it is in a corner we just need to say which, if n is even it is on the west side and if n is odd it is on the east side."
   ]
  },
  {
   "cell_type": "code",
   "execution_count": 19,
   "metadata": {},
   "outputs": [],
   "source": [
    "from math import gcd\n",
    "\n",
    "\n",
    "class Solution:\n",
    "    def mirrorReflection(self, p: int, q: int) -> int:\n",
    "        g = gcd(p, q)\n",
    "        p = (p / g) % 2\n",
    "        q = (q / g) % 2\n",
    "\n",
    "        if p and q:\n",
    "            return 1\n",
    "        elif p:\n",
    "            return 0\n",
    "        else: \n",
    "            return 2"
   ]
  },
  {
   "cell_type": "code",
   "execution_count": 20,
   "metadata": {},
   "outputs": [
    {
     "data": {
      "text/plain": [
       "2"
      ]
     },
     "execution_count": 20,
     "metadata": {},
     "output_type": "execute_result"
    }
   ],
   "source": [
    "p, q = 3,1 # 1\n",
    "s = Solution()\n",
    "# some basic tests\n",
    "s.mirrorReflection(2, 1)"
   ]
  }
 ],
 "metadata": {
  "kernelspec": {
   "display_name": "Python 3",
   "language": "python",
   "name": "python3"
  },
  "language_info": {
   "codemirror_mode": {
    "name": "ipython",
    "version": 3
   },
   "file_extension": ".py",
   "mimetype": "text/x-python",
   "name": "python",
   "nbconvert_exporter": "python",
   "pygments_lexer": "ipython3",
   "version": "3.7.3"
  }
 },
 "nbformat": 4,
 "nbformat_minor": 1
}
