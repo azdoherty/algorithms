{
 "cells": [
  {
   "cell_type": "markdown",
   "metadata": {},
   "source": [
    "# Maximum Points on a Line\n",
    " * From [leetcode](https://leetcode.com/problems/max-points-on-a-line/) \n",
    "\n",
    "Their phrasing is a bit unclear, but what they really want you to do is given a set of points determine the maximum of quantity of those points that could be on a single line, so we will operate under that assumption. \n",
    "\n",
    "Given $n$ points there are $ \\sum_{x=2}^n {n \\choose x} $ possible combinations of points that could form a line. That is to say you can choose any $x$ points where $x$ is between $2$ and $n$ and that could be a valid line so we need to check all of them. The good news is if you start from ${n \\choose n}$ and work backwards the first one you encounter will be the solution. This will be the first brute force attempt at a solution.\n",
    "\n",
    "## Sub-problems\n",
    "1. Do any n points form a line?\n",
    "    * Pick any 2 of the points and construct a line, $y = mx+b$ form\n",
    "    * for the remainder plug in x and see if y matches, if any are not matches return false\n",
    "    * else return true\n",
    "    \n",
    "2. What are the $ {n \\choose x} $ for all $x$\n",
    "\n",
    "\n",
    "## Edge Cases\n",
    "1. Should return 0 on an empty list\n",
    "2. Return 1 on a 1 element list\n",
    "3. Duplicate points get included in the overall count"
   ]
  },
  {
   "cell_type": "code",
   "execution_count": 26,
   "metadata": {},
   "outputs": [],
   "source": [
    "import itertools\n",
    "from matplotlib import pyplot as plt\n",
    "import numpy as np\n",
    "import math\n",
    "%matplotlib inline"
   ]
  },
  {
   "cell_type": "code",
   "execution_count": 27,
   "metadata": {},
   "outputs": [
    {
     "data": {
      "text/plain": [
       "11"
      ]
     },
     "execution_count": 27,
     "metadata": {},
     "output_type": "execute_result"
    }
   ],
   "source": [
    "\n",
    "class Solution:\n",
    "    def maxPoints(self, points):\n",
    "        n = len(points)\n",
    "        if len(points) == 0:\n",
    "            return 0\n",
    "        elif len(points) == 1:\n",
    "            return 1\n",
    "        \n",
    "        for i in range(n, 1, -1):\n",
    "            combos = itertools.combinations(points, i)\n",
    "            \n",
    "            for c in combos:\n",
    "                # special cases\n",
    "                pointset = list(set([tuple(p) for p in c])) # deal with duplicates\n",
    "                xset = set([p[0] for p in pointset])\n",
    "                yset = set([p[1] for p in pointset])\n",
    "                 # deal with duplicates\n",
    "                if len(xset) == 1 or len(yset) == 1:\n",
    "                    return len(c)\n",
    "                elif len(xset) != len(pointset) or len(yset) != len(pointset):\n",
    "                    continue\n",
    "                \n",
    "                if self.form_a_line(pointset):\n",
    "                    return len(c)\n",
    "                \n",
    "        return 0\n",
    "            \n",
    "            \n",
    "    def calc_slope(self, p1, p2):\n",
    "        return (p2[1] - p1[1])/(p2[0] - p1[0])\n",
    "    \n",
    "    def calc_intercept(self, m, point):\n",
    "        return point[1] - m*point[0]\n",
    "    \n",
    "    def on_a_line(self, m, b, point):\n",
    "        if m * point[0] + b == point[1]:\n",
    "            return True\n",
    "        return False\n",
    "            \n",
    "    def form_a_line(self, sub_points):\n",
    "        if len(sub_points) == 1:\n",
    "            return True\n",
    "        p1 = sub_points[0]\n",
    "        p2 = sub_points[1]\n",
    "        m = self.calc_slope(p1, p2)\n",
    "        b = self.calc_intercept(m, p1)\n",
    "        rest = sub_points[2:len(sub_points)]\n",
    "        for p in rest:\n",
    "            if not self.on_a_line(m, b, p):\n",
    "                return False\n",
    "        return True\n",
    "        \n",
    "            \n",
    "points = [[0,9],[138,429],[115,359],[115,359],[-30,-102],[230,709],[-150,-686],[-135,-613],[-60,-248],[-161,-481],[207,639],[23,79],[-230,-691],[-115,-341],[92,289],[60,336],[-105,-467],[135,701],[-90,-394],[-184,-551],[150,774]]\n",
    "s = Solution()\n",
    "s.maxPoints(points)\n",
    "\n",
    "        "
   ]
  },
  {
   "cell_type": "markdown",
   "metadata": {},
   "source": [
    "This works but is ungodly slow. One instance where it does a lot of duplicate effort is if the same 3 points are part of multiple point sets but not part of a line those point sets still all get checked when we know automatically that they don't qualify. This sounds like a good opportunity for some dynamic programming. We could start with all 2 point lines, then for each of those find all valid 3 point lines by trying to add in the remaining points.\n",
    "\n",
    "### Algorithm 2\n",
    "* Create all 2-point lines\n",
    "* for each line try adding another of each of the other points, if it is still a line keep it and mark that point as tried, if not discard it.\n",
    "* for those point sets that are still lines repeat."
   ]
  },
  {
   "cell_type": "code",
   "execution_count": 28,
   "metadata": {},
   "outputs": [
    {
     "name": "stdout",
     "output_type": "stream",
     "text": [
      "12\n"
     ]
    }
   ],
   "source": [
    "class Solution:\n",
    "    def maxPoints(self, points):\n",
    "        if len(points) == 1 or len(points) == 2 or len(points) == 0:\n",
    "            return(len(points))\n",
    "        lines = itertools.combinations(range(len(points)), 2)\n",
    "        lines = [list(l) for l in lines]\n",
    "        max_length = 2\n",
    "        for i in range(len(lines)):\n",
    "            for j in range(len(points)):\n",
    "                if j in lines[i]:\n",
    "                    continue\n",
    "                # if the line and the point form a line add it and \n",
    "                possible_line_indices = lines[i] + [j]\n",
    "                possible_line = [points[x] for x in possible_line_indices]\n",
    "\n",
    "                if self.form_a_line(possible_line):\n",
    "                    lines[i] = lines[i] + [j]\n",
    "                    if len(lines[i]) > max_length:\n",
    "                        max_length = len(lines[i])\n",
    "            \n",
    "        \n",
    "        return max_length\n",
    "            \n",
    "            \n",
    "    def calc_slope(self, p1, p2):\n",
    "        return (p2[1] - p1[1])/(p2[0] - p1[0])\n",
    "    \n",
    "    def calc_intercept(self, m, point):\n",
    "        return point[1] - m*point[0]\n",
    "    \n",
    "    def on_a_line(self, m, b, point):\n",
    "        if m * point[0] + b == point[1]:\n",
    "            return True\n",
    "        return False\n",
    "            \n",
    "    def form_a_line(self, sub_points):\n",
    "        if len(sub_points) == 1 or len(sub_points) == 2 or len(sub_points) == 0:\n",
    "            return True\n",
    "        pointset = list(set([tuple(p) for p in sub_points])) # deal with duplicates\n",
    "        xset = set([p[0] for p in sub_points])\n",
    "        yset = set([p[1] for p in sub_points])\n",
    "        \n",
    "        if len(xset) == 1 or len(yset) == 1:\n",
    "            return True\n",
    "        \n",
    "        elif len(xset) != len(pointset) or len(yset) != len(pointset):\n",
    "            return False\n",
    "        \n",
    "        if len(pointset) == 1 or len(pointset) == 2:\n",
    "            return True\n",
    "        \n",
    "        p1 = sub_points[0]\n",
    "        p2 = sub_points[1]\n",
    "        try:\n",
    "            m = self.calc_slope(p1, p2)\n",
    "        except:\n",
    "            return False\n",
    "        b = self.calc_intercept(m, p1)\n",
    "        rest = sub_points[2:len(sub_points) + 1]\n",
    "        for p in rest:\n",
    "            if not self.on_a_line(m, b, p):\n",
    "                return False\n",
    "        return True\n",
    "        \n",
    "points = [[0,9],[138,429],[115,359],[115,359],[-30,-102],[230,709],[-150,-686],[-135,-613],[-60,-248],[-161,-481],[207,639],[23,79],[-230,-691],[-115,-341],[92,289],[60,336],[-105,-467],[135,701],[-90,-394],[-184,-551],[150,774]]\n",
    "#points = [[1,1],[2,2],[3,3]] #3\n",
    "#points = [[1,1],[1,1],[1,1]] #3 - by definition\n",
    "#points = [[3,1],[12,3],[3,1],[-6,-1]] # 4\n",
    "#points = [[0,0],[0,0]] # 2 by definition\n",
    "#points = [[-4,1],[-7,7],[-1,5],[9,-25]] # 3\n",
    "#points = [[-1, 5], [9, -25], [-4, 1], [-7, 7]] \n",
    "#points = [[-54,-297],[-36,-222],[3,-2],[30,53],[-5,1],[-36,-222],[0,2],[1,3],[6,-47],[0,4],[2,3],[5,0],[48,128],[24,28],[0,-5],[48,128],[-12,-122],[-54,-297],[-42,-247],[-5,0],[2,4],[0,0],[54,153],[-30,-197],[4,5],[4,3],[-42,-247],[6,-47],[-60,-322],[-4,-2],[-18,-147],[6,-47],[60,178],[30,53],[-5,3],[-42,-247],[2,-2],[12,-22],[24,28],[0,-72],[3,-4],[-60,-322],[48,128],[0,-72],[-5,3],[5,5],[-24,-172],[-48,-272],[36,78],[-3,3]]\n",
    "#points = [[0,0],[1,1],[1,-1]]\n",
    "#points = [[0,0]]\n",
    "s = Solution()\n",
    "\n",
    "print(s.maxPoints(points))\n",
    "\n",
    "\n",
    "\n"
   ]
  },
  {
   "cell_type": "code",
   "execution_count": 29,
   "metadata": {},
   "outputs": [
    {
     "data": {
      "text/plain": [
       "False"
      ]
     },
     "execution_count": 29,
     "metadata": {},
     "output_type": "execute_result"
    }
   ],
   "source": [
    "p1 = points[0]\n",
    "p2 = points[1]\n",
    "m = s.calc_slope(p1, p2)\n",
    "b = s.calc_intercept(m, p1)\n",
    "s.form_a_line(points)"
   ]
  },
  {
   "cell_type": "code",
   "execution_count": 30,
   "metadata": {},
   "outputs": [
    {
     "data": {
      "text/plain": [
       "[<matplotlib.lines.Line2D at 0x23bcfbdf390>]"
      ]
     },
     "execution_count": 30,
     "metadata": {},
     "output_type": "execute_result"
    },
    {
     "data": {
      "image/png": "[encoded data removed]",
      "text/plain": [
       "<matplotlib.figure.Figure at 0x23bcf695358>"
      ]
     },
     "metadata": {},
     "output_type": "display_data"
    }
   ],
   "source": [
    "\n",
    "pts = np.array(points)\n",
    "plt.figure()\n",
    "plt.plot(pts[:,0], pts[:,1], '.')"
   ]
  },
  {
   "cell_type": "markdown",
   "metadata": {},
   "source": [
    "# An Even better solution\n",
    "For each pair of points calculate the slope and y intercept, store a count of those in an accumulator object and take the maximum this is approximiately ${n \\choose 2}$ or approximately $n^2$. We need to get rid of duplicates before doing this."
   ]
  },
  {
   "cell_type": "code",
   "execution_count": 60,
   "metadata": {},
   "outputs": [
    {
     "ename": "TypeError",
     "evalue": "'>' not supported between instances of 'int' and 'tuple'",
     "output_type": "error",
     "traceback": [
      "\u001b[1;31m---------------------------------------------------------------------------\u001b[0m",
      "\u001b[1;31mTypeError\u001b[0m                                 Traceback (most recent call last)",
      "\u001b[1;32m<ipython-input-60-1784180bd4c8>\u001b[0m in \u001b[0;36m<module>\u001b[1;34m()\u001b[0m\n\u001b[0;32m     80\u001b[0m \u001b[1;33m\u001b[0m\u001b[0m\n\u001b[0;32m     81\u001b[0m \u001b[0ms\u001b[0m \u001b[1;33m=\u001b[0m \u001b[0mSolution\u001b[0m\u001b[1;33m(\u001b[0m\u001b[1;33m)\u001b[0m\u001b[1;33m\u001b[0m\u001b[0m\n\u001b[1;32m---> 82\u001b[1;33m \u001b[0ms\u001b[0m\u001b[1;33m.\u001b[0m\u001b[0mmaxPoints\u001b[0m\u001b[1;33m(\u001b[0m\u001b[0mpoints\u001b[0m\u001b[1;33m)\u001b[0m\u001b[1;33m\u001b[0m\u001b[0m\n\u001b[0m",
      "\u001b[1;32m<ipython-input-60-1784180bd4c8>\u001b[0m in \u001b[0;36mmaxPoints\u001b[1;34m(self, points)\u001b[0m\n\u001b[0;32m     64\u001b[0m                 \u001b[0mpoint_slope_accumulator\u001b[0m\u001b[1;33m[\u001b[0m\u001b[0mslope\u001b[0m\u001b[1;33m]\u001b[0m\u001b[1;33m[\u001b[0m\u001b[0mintercept\u001b[0m\u001b[1;33m]\u001b[0m \u001b[1;33m+=\u001b[0m \u001b[0mpoint_weight\u001b[0m\u001b[1;33m[\u001b[0m\u001b[0mlines\u001b[0m\u001b[1;33m[\u001b[0m\u001b[0mi\u001b[0m\u001b[1;33m]\u001b[0m\u001b[1;33m[\u001b[0m\u001b[1;36m1\u001b[0m\u001b[1;33m]\u001b[0m\u001b[1;33m]\u001b[0m\u001b[1;33m\u001b[0m\u001b[0m\n\u001b[0;32m     65\u001b[0m \u001b[1;33m\u001b[0m\u001b[0m\n\u001b[1;32m---> 66\u001b[1;33m             \u001b[1;32mif\u001b[0m \u001b[0mpoint_slope_accumulator\u001b[0m\u001b[1;33m[\u001b[0m\u001b[0mslope\u001b[0m\u001b[1;33m]\u001b[0m\u001b[1;33m[\u001b[0m\u001b[0mintercept\u001b[0m\u001b[1;33m]\u001b[0m \u001b[1;33m>\u001b[0m \u001b[0mmax_length\u001b[0m\u001b[1;33m:\u001b[0m\u001b[1;33m\u001b[0m\u001b[0m\n\u001b[0m\u001b[0;32m     67\u001b[0m                 \u001b[0mmax_length\u001b[0m \u001b[1;33m=\u001b[0m \u001b[0mpoint_slope_accumulator\u001b[0m\u001b[1;33m[\u001b[0m\u001b[0mslope\u001b[0m\u001b[1;33m]\u001b[0m\u001b[1;33m[\u001b[0m\u001b[0mintercept\u001b[0m\u001b[1;33m]\u001b[0m\u001b[1;33m\u001b[0m\u001b[0m\n\u001b[0;32m     68\u001b[0m \u001b[1;33m\u001b[0m\u001b[0m\n",
      "\u001b[1;31mTypeError\u001b[0m: '>' not supported between instances of 'int' and 'tuple'"
     ]
    }
   ],
   "source": [
    "class Solution:\n",
    "    \n",
    "    def calc_slope(self, p1, p2):\n",
    "        \"\"\"\n",
    "        return slope as a tuple (dy, dx)\n",
    "        \"\"\"\n",
    "        dx = p2[0] - p1[0]\n",
    "        dy = p2[1] - p1[1]\n",
    "        gcd = math.gcd(dy, dx)\n",
    "        dx = dx/gcd\n",
    "        dy = dy/gcd\n",
    "            # ensure if negative dy always stores that information\n",
    "        if dx < 0:\n",
    "            dy *= -1\n",
    "            dx *= -1\n",
    "        return (dy, dx) \n",
    "    \n",
    "    def calc_intercept(self, p1, p2, m):\n",
    "        \"\"\" \n",
    "        take two points and the slope as a tuple as provided by calc_slope and calcualte\n",
    "        the y intercept, if there is no y intercept provide the x intercept instead\n",
    "        \"\"\"\n",
    "        # if dx = 0\n",
    "        if m[1] == 0:\n",
    "            # return x intercept\n",
    "            return p1[0]\n",
    "        else:\n",
    "            m_classic = m[0]/m[1]\n",
    "            b = p1[1] - m_classic * p1[0] # solve for b in y = mx + b\n",
    "            return b\n",
    "            \n",
    "    def calc_slope_intercept(self, p1, p2):\n",
    "        slope = self.calc_slope(p1, p2)\n",
    "        intercept = self.calc_intercept(p1, p2, slope)\n",
    "        return slope, intercept\n",
    "            \n",
    "    def maxPoints(self, points):\n",
    "        point_tuples = [tuple(p) for p in points]\n",
    "        point_set = set(point_tuples)\n",
    "        point_weight = {p: point_tuples.count(p) for p in point_set}\n",
    "        two_point_lines = itertools.combinations(point_set, 2)\n",
    "        lines = [list(l) for l in two_point_lines]\n",
    "        max_length = max(point_weight)\n",
    "        point_slope_accumulator = {}\n",
    "        votes = {p:{} for p in point_set} # for each point/intercept a point belongs to it gets 1 vote\n",
    "        for i in range(len(lines)):\n",
    "            p1 = lines[i][0]\n",
    "            p2 = lines[i][1]\n",
    "            slope, intercept = self.calc_slope_intercept(p1, p2)\n",
    "            for p in lines[i]\n",
    "                if (slope, intercept) in votes[p]:\n",
    "                    continue\n",
    "                else:\n",
    "                    votes[(slope, intercept)] = point_weight[p]\n",
    "\n",
    "                \n",
    "        \n",
    "                \n",
    "            \n",
    "                \n",
    "        print(point_slope_accumulator)\n",
    "         \n",
    "            \n",
    "        return max_length \n",
    "    \n",
    "\n",
    "            \n",
    "            \n",
    "points = [[0,9],[138,429],[115,359],[115,359],[-30,-102],[230,709],[-150,-686],[-135,-613],[-60,-248],[-161,-481],[207,639],[23,79],[-230,-691],[-115,-341],[92,289],[60,336],[-105,-467],[135,701],[-90,-394],[-184,-551],[150,774]]\n",
    "points = [[0,0], [1,1], [2,2]]\n",
    "points = [[0,0], [1,1], [1,2]]\n",
    "\n",
    "s = Solution()\n",
    "s.maxPoints(points)\n"
   ]
  }
 ],
 "metadata": {
  "kernelspec": {
   "display_name": "Python 3",
   "language": "python",
   "name": "python3"
  },
  "language_info": {
   "codemirror_mode": {
    "name": "ipython",
    "version": 3
   },
   "file_extension": ".py",
   "mimetype": "text/x-python",
   "name": "python",
   "nbconvert_exporter": "python",
   "pygments_lexer": "ipython3",
   "version": "3.6.4"
  }
 },
 "nbformat": 4,
 "nbformat_minor": 2
}
