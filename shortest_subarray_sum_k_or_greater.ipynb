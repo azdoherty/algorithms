{
 "cells": [
  {
   "cell_type": "markdown",
   "metadata": {},
   "source": [
    "# Shortest Subarray with Sum at Least K\n",
    "\n",
    "[Problem](https://leetcode.com/problems/shortest-subarray-with-sum-at-least-k/)\n",
    "\n",
    "## Approach \n",
    "Return the lenght of the shortest sub-array within A whose sum is at least K\n",
    "### Constraints and Rules\n",
    "* Must be non-empty\n",
    "* Must be contiguous\n",
    "* if no such array return -1\n",
    "* `len(A) < 50000`\n",
    "\n",
    "A bad solution, but simple would be to start with a marker at 0, and N and constantly march them inward until $sum([a_i:a_j]) < k$ This would need to be done twice, from both sides, so getting close to $n^2$\n"
   ]
  },
  {
   "cell_type": "code",
   "execution_count": 30,
   "metadata": {},
   "outputs": [],
   "source": [
    "class Solution:\n",
    "    def shortestSubarray(self, A, K):\n",
    "        min_len = len(A) + 1\n",
    "        for i in range(0, len(A)):\n",
    "            for j in range(len(A), i, -1):\n",
    "                check_sum = sum(A[i:j])\n",
    "                if check_sum >= K:\n",
    "                    if j-i < min_len:\n",
    "                        min_len = j - i\n",
    "        if min_len == len(A) + 1:\n",
    "            return -1\n",
    "        return min_len\n",
    "        "
   ]
  },
  {
   "cell_type": "code",
   "execution_count": 31,
   "metadata": {},
   "outputs": [
    {
     "name": "stdout",
     "output_type": "stream",
     "text": [
      "Act: -1, Exp: -1\n",
      "Act: 3, Exp: 3\n",
      "Act: 1, Exp: 1\n",
      "Act: 2, Exp: 2\n",
      "Act: 2, Exp: 2\n"
     ]
    }
   ],
   "source": [
    "s = Solution()\n",
    "\n",
    "A = [1,2]\n",
    "K = 4\n",
    "print(\"Act: {}, Exp: {}\".format(s.shortestSubarray(A, K), -1))\n",
    "\n",
    "A = [2,-1,2]\n",
    "K = 3\n",
    "print(\"Act: {}, Exp: {}\".format(s.shortestSubarray(A, K), 3))\n",
    "\n",
    "A = [1]\n",
    "K = 1\n",
    "print(\"Act: {}, Exp: {}\".format(s.shortestSubarray(A, K), 1))\n",
    "\n",
    "A = [17,85,93,-45,-21]\n",
    "K = 150\n",
    "print(\"Act: {}, Exp: {}\".format(s.shortestSubarray(A, K), 2))\n",
    "\n",
    "A = [48,99,37,4,-31]\n",
    "K = 140\n",
    "print(\"Act: {}, Exp: {}\".format(s.shortestSubarray(A, K), 2))\n",
    "\n"
   ]
  }
 ],
 "metadata": {
  "kernelspec": {
   "display_name": "Python 3",
   "language": "python",
   "name": "python3"
  },
  "language_info": {
   "codemirror_mode": {
    "name": "ipython",
    "version": 3
   },
   "file_extension": ".py",
   "mimetype": "text/x-python",
   "name": "python",
   "nbconvert_exporter": "python",
   "pygments_lexer": "ipython3",
   "version": "3.6.4"
  }
 },
 "nbformat": 4,
 "nbformat_minor": 2
}
